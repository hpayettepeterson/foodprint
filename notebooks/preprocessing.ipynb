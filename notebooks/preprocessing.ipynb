{
 "cells": [
  {
   "cell_type": "code",
   "execution_count": 2,
   "id": "50e67bee",
   "metadata": {
    "scrolled": false
   },
   "outputs": [],
   "source": [
    "import pandas as pd\n",
    "import numpy as np\n",
    "import json\n",
    "import os\n",
    "from helper import load_data, load_data_im2recipe\n",
    "from sklearn.feature_extraction import DictVectorizer\n",
    "import matplotlib.pyplot as plt\n",
    "from sklearn.decomposition import PCA\n",
    "from sklearn.preprocessing import LabelEncoder\n",
    "from sklearn.pipeline import Pipeline\n",
    "from sklearn.neighbors import NearestNeighbors\n",
    "import requests\n",
    "from food_extractor.food_model import FoodModel\n",
    "import seaborn as sns\n",
    "import pickle\n",
    "\n",
    "%load_ext autoreload\n",
    "%autoreload 2"
   ]
  },
  {
   "cell_type": "markdown",
   "id": "75c631cf",
   "metadata": {},
   "source": [
    "# - Load the data"
   ]
  },
  {
   "cell_type": "markdown",
   "id": "0636c7b5",
   "metadata": {},
   "source": [
    "## Yummly data"
   ]
  },
  {
   "cell_type": "code",
   "execution_count": 4,
   "id": "98688454",
   "metadata": {
    "scrolled": false
   },
   "outputs": [
    {
     "data": {
      "text/html": [
       "<div>\n",
       "<style scoped>\n",
       "    .dataframe tbody tr th:only-of-type {\n",
       "        vertical-align: middle;\n",
       "    }\n",
       "\n",
       "    .dataframe tbody tr th {\n",
       "        vertical-align: top;\n",
       "    }\n",
       "\n",
       "    .dataframe thead th {\n",
       "        text-align: right;\n",
       "    }\n",
       "</style>\n",
       "<table border=\"1\" class=\"dataframe\">\n",
       "  <thead>\n",
       "    <tr style=\"text-align: right;\">\n",
       "      <th></th>\n",
       "      <th>id</th>\n",
       "      <th>recipeName</th>\n",
       "      <th>ingredients</th>\n",
       "    </tr>\n",
       "  </thead>\n",
       "  <tbody>\n",
       "    <tr>\n",
       "      <th>0</th>\n",
       "      <td>Sake-and-Ginger-Soba-Noodle-Salmon-Stir-Fry_-2...</td>\n",
       "      <td>Sake and Ginger Soba Noodle Salmon Stir Fry.</td>\n",
       "      <td>[sake, low sodium soy sauce, fresh ginger, gar...</td>\n",
       "    </tr>\n",
       "    <tr>\n",
       "      <th>1</th>\n",
       "      <td>Japanese-Teriyaki-Style-Glazed-Salmon-2036776</td>\n",
       "      <td>Japanese Teriyaki-Style Glazed Salmon</td>\n",
       "      <td>[salmon fillets, sea salt, cracked black peppe...</td>\n",
       "    </tr>\n",
       "    <tr>\n",
       "      <th>2</th>\n",
       "      <td>Salmon-teriyaki-308049</td>\n",
       "      <td>Salmon Teriyaki</td>\n",
       "      <td>[salmon, soy sauce, mirin, sugar, vegetable oil]</td>\n",
       "    </tr>\n",
       "    <tr>\n",
       "      <th>3</th>\n",
       "      <td>Honey-Teriyaki-Chicken-1038563</td>\n",
       "      <td>Honey Teriyaki Chicken</td>\n",
       "      <td>[boneless skinless chicken thighs, honey, teri...</td>\n",
       "    </tr>\n",
       "    <tr>\n",
       "      <th>4</th>\n",
       "      <td>Mirin-Glazed-Salmon-Once-Upon-A-Chef-200003</td>\n",
       "      <td>Mirin Glazed Salmon</td>\n",
       "      <td>[mirin, light brown sugar, soy sauce, salmon f...</td>\n",
       "    </tr>\n",
       "  </tbody>\n",
       "</table>\n",
       "</div>"
      ],
      "text/plain": [
       "                                                  id  \\\n",
       "0  Sake-and-Ginger-Soba-Noodle-Salmon-Stir-Fry_-2...   \n",
       "1      Japanese-Teriyaki-Style-Glazed-Salmon-2036776   \n",
       "2                             Salmon-teriyaki-308049   \n",
       "3                     Honey-Teriyaki-Chicken-1038563   \n",
       "4        Mirin-Glazed-Salmon-Once-Upon-A-Chef-200003   \n",
       "\n",
       "                                     recipeName  \\\n",
       "0  Sake and Ginger Soba Noodle Salmon Stir Fry.   \n",
       "1         Japanese Teriyaki-Style Glazed Salmon   \n",
       "2                               Salmon Teriyaki   \n",
       "3                        Honey Teriyaki Chicken   \n",
       "4                           Mirin Glazed Salmon   \n",
       "\n",
       "                                         ingredients  \n",
       "0  [sake, low sodium soy sauce, fresh ginger, gar...  \n",
       "1  [salmon fillets, sea salt, cracked black peppe...  \n",
       "2   [salmon, soy sauce, mirin, sugar, vegetable oil]  \n",
       "3  [boneless skinless chicken thighs, honey, teri...  \n",
       "4  [mirin, light brown sugar, soy sauce, salmon f...  "
      ]
     },
     "execution_count": 4,
     "metadata": {},
     "output_type": "execute_result"
    }
   ],
   "source": [
    "df_yummly = load_data(cache=False, lists_folder='../foodprint/data/lists/', recipes_folder='../foodprint/data/recipes/')\n",
    "df_yummly.head()"
   ]
  },
  {
   "cell_type": "code",
   "execution_count": 3,
   "id": "339a8035",
   "metadata": {},
   "outputs": [],
   "source": [
    "df_yummly=pd.DataFrame()"
   ]
  },
  {
   "cell_type": "markdown",
   "id": "a1b3cb5c",
   "metadata": {},
   "source": [
    "## im2recipe data"
   ]
  },
  {
   "cell_type": "markdown",
   "id": "45e8840a",
   "metadata": {},
   "source": [
    "### From source file"
   ]
  },
  {
   "cell_type": "code",
   "execution_count": 146,
   "id": "d9e92079",
   "metadata": {
    "scrolled": true
   },
   "outputs": [
    {
     "data": {
      "text/html": [
       "<div>\n",
       "<style scoped>\n",
       "    .dataframe tbody tr th:only-of-type {\n",
       "        vertical-align: middle;\n",
       "    }\n",
       "\n",
       "    .dataframe tbody tr th {\n",
       "        vertical-align: top;\n",
       "    }\n",
       "\n",
       "    .dataframe thead th {\n",
       "        text-align: right;\n",
       "    }\n",
       "</style>\n",
       "<table border=\"1\" class=\"dataframe\">\n",
       "  <thead>\n",
       "    <tr style=\"text-align: right;\">\n",
       "      <th></th>\n",
       "      <th>id</th>\n",
       "      <th>recipeName</th>\n",
       "      <th>ingredients</th>\n",
       "    </tr>\n",
       "  </thead>\n",
       "  <tbody>\n",
       "    <tr>\n",
       "      <th>0</th>\n",
       "      <td>000095fc1d</td>\n",
       "      <td>Yogurt Parfaits</td>\n",
       "      <td>[yogurt greek plain nonfat, strawberries raw, ...</td>\n",
       "    </tr>\n",
       "    <tr>\n",
       "      <th>1</th>\n",
       "      <td>00051d5b9d</td>\n",
       "      <td>Salt Free, Low Cholesterol Sugar Cookies Recipe</td>\n",
       "      <td>[sugars granulated, oil corn peanut and olive,...</td>\n",
       "    </tr>\n",
       "    <tr>\n",
       "      <th>2</th>\n",
       "      <td>00059b093b</td>\n",
       "      <td>Honey Sriracha Chicken Wings</td>\n",
       "      <td>[chicken broilers or fryers wing meat and skin...</td>\n",
       "    </tr>\n",
       "    <tr>\n",
       "      <th>3</th>\n",
       "      <td>0005fc89f7</td>\n",
       "      <td>Shrimp and Caper Salad</td>\n",
       "      <td>[crustaceans shrimp raw (not previously frozen...</td>\n",
       "    </tr>\n",
       "    <tr>\n",
       "      <th>4</th>\n",
       "      <td>0006ca31f4</td>\n",
       "      <td>Natural Peanut Butter Chocolate Bon Bons</td>\n",
       "      <td>[cocoa dry powder unsweetened, honey, peanut b...</td>\n",
       "    </tr>\n",
       "  </tbody>\n",
       "</table>\n",
       "</div>"
      ],
      "text/plain": [
       "           id                                       recipeName  \\\n",
       "0  000095fc1d                                  Yogurt Parfaits   \n",
       "1  00051d5b9d  Salt Free, Low Cholesterol Sugar Cookies Recipe   \n",
       "2  00059b093b                     Honey Sriracha Chicken Wings   \n",
       "3  0005fc89f7                           Shrimp and Caper Salad   \n",
       "4  0006ca31f4         Natural Peanut Butter Chocolate Bon Bons   \n",
       "\n",
       "                                         ingredients  \n",
       "0  [yogurt greek plain nonfat, strawberries raw, ...  \n",
       "1  [sugars granulated, oil corn peanut and olive,...  \n",
       "2  [chicken broilers or fryers wing meat and skin...  \n",
       "3  [crustaceans shrimp raw (not previously frozen...  \n",
       "4  [cocoa dry powder unsweetened, honey, peanut b...  "
      ]
     },
     "execution_count": 146,
     "metadata": {},
     "output_type": "execute_result"
    }
   ],
   "source": [
    "df_im2recipe_all = load_data_im2recipe(recipes_folder='../foodprint/data/im2recipes/')\n",
    "df_im2recipe_all.head()"
   ]
  },
  {
   "cell_type": "code",
   "execution_count": 150,
   "id": "21143af7",
   "metadata": {},
   "outputs": [],
   "source": [
    "df_im2recipe = df_im2recipe_all.copy()"
   ]
  },
  {
   "cell_type": "markdown",
   "id": "1ca29894",
   "metadata": {},
   "source": [
    "### From cache file"
   ]
  },
  {
   "cell_type": "code",
   "execution_count": 4,
   "id": "9e9fd722",
   "metadata": {},
   "outputs": [],
   "source": [
    "df_im2recipe = pickle.load(open('../foodprint/cached_data/cached_im2recipe.pickle','rb'))"
   ]
  },
  {
   "cell_type": "code",
   "execution_count": 5,
   "id": "5594c56d",
   "metadata": {},
   "outputs": [
    {
     "data": {
      "text/plain": [
       "(51235, 5)"
      ]
     },
     "execution_count": 5,
     "metadata": {},
     "output_type": "execute_result"
    }
   ],
   "source": [
    "df_im2recipe.shape"
   ]
  },
  {
   "cell_type": "markdown",
   "id": "37d8d721",
   "metadata": {},
   "source": [
    "## Concat Yummly & im2recipe"
   ]
  },
  {
   "cell_type": "code",
   "execution_count": 85,
   "id": "626592f2",
   "metadata": {},
   "outputs": [
    {
     "name": "stdout",
     "output_type": "stream",
     "text": [
      "(0, 0)\n",
      "(51235, 5)\n",
      "(51235, 5)\n"
     ]
    }
   ],
   "source": [
    "df = pd.concat([df_yummly, df_im2recipe]).reset_index(drop=True)\n",
    "print(df_yummly.shape)\n",
    "print(df_im2recipe.shape)\n",
    "print(df.shape)"
   ]
  },
  {
   "cell_type": "markdown",
   "id": "e5ea1e21",
   "metadata": {},
   "source": [
    "### Add CO2 & Nutritional data"
   ]
  },
  {
   "cell_type": "code",
   "execution_count": 86,
   "id": "e49ce035",
   "metadata": {
    "scrolled": true
   },
   "outputs": [
    {
     "data": {
      "text/html": [
       "<div>\n",
       "<style scoped>\n",
       "    .dataframe tbody tr th:only-of-type {\n",
       "        vertical-align: middle;\n",
       "    }\n",
       "\n",
       "    .dataframe tbody tr th {\n",
       "        vertical-align: top;\n",
       "    }\n",
       "\n",
       "    .dataframe thead th {\n",
       "        text-align: right;\n",
       "    }\n",
       "</style>\n",
       "<table border=\"1\" class=\"dataframe\">\n",
       "  <thead>\n",
       "    <tr style=\"text-align: right;\">\n",
       "      <th></th>\n",
       "      <th>id</th>\n",
       "      <th>recipeName</th>\n",
       "      <th>co2</th>\n",
       "      <th>ingredients</th>\n",
       "      <th>bow</th>\n",
       "    </tr>\n",
       "  </thead>\n",
       "  <tbody>\n",
       "    <tr>\n",
       "      <th>0</th>\n",
       "      <td>000095fc1d</td>\n",
       "      <td>Yogurt Parfaits</td>\n",
       "      <td>0.127718</td>\n",
       "      <td>[yogurt, greek, strawberries, cereals, granola]</td>\n",
       "      <td>{'yogurt': 1, 'greek': 1, 'strawberries': 1, '...</td>\n",
       "    </tr>\n",
       "    <tr>\n",
       "      <th>1</th>\n",
       "      <td>00051d5b9d</td>\n",
       "      <td>Salt Free, Low Cholesterol Sugar Cookies Recipe</td>\n",
       "      <td>0.159063</td>\n",
       "      <td>[sugar, oil corn peanut, olive, egg substitute...</td>\n",
       "      <td>{'sugar': 1, 'oil corn peanut': 1, 'olive': 1,...</td>\n",
       "    </tr>\n",
       "    <tr>\n",
       "      <th>2</th>\n",
       "      <td>00059b093b</td>\n",
       "      <td>Honey Sriracha Chicken Wings</td>\n",
       "      <td>0.408182</td>\n",
       "      <td>[chicken, broil, meat, skin, salt table, spice...</td>\n",
       "      <td>{'chicken': 1, 'broil': 1, 'meat': 1, 'skin': ...</td>\n",
       "    </tr>\n",
       "    <tr>\n",
       "      <th>3</th>\n",
       "      <td>0005fc89f7</td>\n",
       "      <td>Shrimp and Caper Salad</td>\n",
       "      <td>0.370836</td>\n",
       "      <td>[crust, aceans shrimp, onions spring, scallion...</td>\n",
       "      <td>{'crust': 1, 'aceans shrimp': 1, 'onions sprin...</td>\n",
       "    </tr>\n",
       "    <tr>\n",
       "      <th>4</th>\n",
       "      <td>0006ca31f4</td>\n",
       "      <td>Natural Peanut Butter Chocolate Bon Bons</td>\n",
       "      <td>0.081544</td>\n",
       "      <td>[cocoa dry powder, honey, peanut butter, salt]</td>\n",
       "      <td>{'cocoa dry powder': 1, 'honey': 1, 'peanut bu...</td>\n",
       "    </tr>\n",
       "  </tbody>\n",
       "</table>\n",
       "</div>"
      ],
      "text/plain": [
       "           id                                       recipeName       co2  \\\n",
       "0  000095fc1d                                  Yogurt Parfaits  0.127718   \n",
       "1  00051d5b9d  Salt Free, Low Cholesterol Sugar Cookies Recipe  0.159063   \n",
       "2  00059b093b                     Honey Sriracha Chicken Wings  0.408182   \n",
       "3  0005fc89f7                           Shrimp and Caper Salad  0.370836   \n",
       "4  0006ca31f4         Natural Peanut Butter Chocolate Bon Bons  0.081544   \n",
       "\n",
       "                                         ingredients  \\\n",
       "0    [yogurt, greek, strawberries, cereals, granola]   \n",
       "1  [sugar, oil corn peanut, olive, egg substitute...   \n",
       "2  [chicken, broil, meat, skin, salt table, spice...   \n",
       "3  [crust, aceans shrimp, onions spring, scallion...   \n",
       "4     [cocoa dry powder, honey, peanut butter, salt]   \n",
       "\n",
       "                                                 bow  \n",
       "0  {'yogurt': 1, 'greek': 1, 'strawberries': 1, '...  \n",
       "1  {'sugar': 1, 'oil corn peanut': 1, 'olive': 1,...  \n",
       "2  {'chicken': 1, 'broil': 1, 'meat': 1, 'skin': ...  \n",
       "3  {'crust': 1, 'aceans shrimp': 1, 'onions sprin...  \n",
       "4  {'cocoa dry powder': 1, 'honey': 1, 'peanut bu...  "
      ]
     },
     "execution_count": 86,
     "metadata": {},
     "output_type": "execute_result"
    }
   ],
   "source": [
    "df.head()"
   ]
  },
  {
   "cell_type": "code",
   "execution_count": 87,
   "id": "01c30606",
   "metadata": {
    "scrolled": true
   },
   "outputs": [
    {
     "name": "stdout",
     "output_type": "stream",
     "text": [
      "(51235, 13)\n"
     ]
    },
    {
     "data": {
      "text/html": [
       "<div>\n",
       "<style scoped>\n",
       "    .dataframe tbody tr th:only-of-type {\n",
       "        vertical-align: middle;\n",
       "    }\n",
       "\n",
       "    .dataframe tbody tr th {\n",
       "        vertical-align: top;\n",
       "    }\n",
       "\n",
       "    .dataframe thead th {\n",
       "        text-align: right;\n",
       "    }\n",
       "</style>\n",
       "<table border=\"1\" class=\"dataframe\">\n",
       "  <thead>\n",
       "    <tr style=\"text-align: right;\">\n",
       "      <th></th>\n",
       "      <th>id</th>\n",
       "      <th>dish_name</th>\n",
       "      <th>ingredients</th>\n",
       "      <th>weight_per_ingr</th>\n",
       "      <th>total_dish_weight</th>\n",
       "      <th>total_footprint</th>\n",
       "      <th>dish_footprint_per_100gr</th>\n",
       "      <th>confidence_score</th>\n",
       "      <th>dish_footprint_per_kilo</th>\n",
       "      <th>co2_score</th>\n",
       "      <th>km_driven_per_100gr</th>\n",
       "      <th>nutrients_per_100gr</th>\n",
       "      <th>proportion_of_ingredient</th>\n",
       "    </tr>\n",
       "  </thead>\n",
       "  <tbody>\n",
       "    <tr>\n",
       "      <th>0</th>\n",
       "      <td>000095fc1d</td>\n",
       "      <td>Yogurt Parfaits</td>\n",
       "      <td>['yogurt, greek, plain, nonfat', 'strawberries...</td>\n",
       "      <td>[226.796, 152.0, 30.5]</td>\n",
       "      <td>409.296000</td>\n",
       "      <td>0.522744</td>\n",
       "      <td>0.127718</td>\n",
       "      <td>1.000000</td>\n",
       "      <td>1.277178</td>\n",
       "      <td>low</td>\n",
       "      <td>0.494907</td>\n",
       "      <td>{'energy': 81.12946131894766, 'fat': 2.1401392...</td>\n",
       "      <td>[0.5541124271920566, 0.3713693757085337, 0.074...</td>\n",
       "    </tr>\n",
       "    <tr>\n",
       "      <th>1</th>\n",
       "      <td>00051d5b9d</td>\n",
       "      <td>Salt Free, Low Cholesterol Sugar Cookies Recipe</td>\n",
       "      <td>['sugars, granulated', 'oil, corn, peanut, and...</td>\n",
       "      <td>[100.80000000000001, 168.0, 21.25, 5.166666666...</td>\n",
       "      <td>747.808333</td>\n",
       "      <td>1.189488</td>\n",
       "      <td>0.159063</td>\n",
       "      <td>1.000000</td>\n",
       "      <td>1.590633</td>\n",
       "      <td>low</td>\n",
       "      <td>0.616370</td>\n",
       "      <td>{'energy': 477.09640393594606, 'fat': 23.41248...</td>\n",
       "      <td>[0.13479389772334713, 0.2246564962055785, 0.02...</td>\n",
       "    </tr>\n",
       "    <tr>\n",
       "      <th>2</th>\n",
       "      <td>00059b093b</td>\n",
       "      <td>Honey Sriracha Chicken Wings</td>\n",
       "      <td>['chicken, broilers or fryers, wing, meat and ...</td>\n",
       "      <td>[1360.7759999999998, 6.0, 1.15, 13.5, 42.59999...</td>\n",
       "      <td>1579.409333</td>\n",
       "      <td>6.446860</td>\n",
       "      <td>0.408182</td>\n",
       "      <td>1.000000</td>\n",
       "      <td>4.081817</td>\n",
       "      <td>high</td>\n",
       "      <td>1.581704</td>\n",
       "      <td>{'energy': 208.05898280960727, 'fat': 14.29704...</td>\n",
       "      <td>[0.8615727229673203, 0.0037988885296359742, 0....</td>\n",
       "    </tr>\n",
       "    <tr>\n",
       "      <th>3</th>\n",
       "      <td>0005fc89f7</td>\n",
       "      <td>Shrimp and Caper Salad</td>\n",
       "      <td>['crustaceans, shrimp, raw (not previously fro...</td>\n",
       "      <td>[907.184, 75.0, 151.5, 25.799999999999997, 134...</td>\n",
       "      <td>1574.431917</td>\n",
       "      <td>5.838564</td>\n",
       "      <td>0.370836</td>\n",
       "      <td>0.983613</td>\n",
       "      <td>3.708362</td>\n",
       "      <td>high</td>\n",
       "      <td>1.436990</td>\n",
       "      <td>{'energy': 194.7525956849092, 'fat': 15.980767...</td>\n",
       "      <td>[0.5761976687570326, 0.0476362294273019, 0.096...</td>\n",
       "    </tr>\n",
       "    <tr>\n",
       "      <th>4</th>\n",
       "      <td>0006ca31f4</td>\n",
       "      <td>Natural Peanut Butter Chocolate Bon Bons</td>\n",
       "      <td>['cocoa, dry powder, unsweetened', 'honey', 'p...</td>\n",
       "      <td>[1032.0, 4068.0, 256.0]</td>\n",
       "      <td>5356.000000</td>\n",
       "      <td>4.367520</td>\n",
       "      <td>0.081544</td>\n",
       "      <td>0.807319</td>\n",
       "      <td>0.815444</td>\n",
       "      <td>low</td>\n",
       "      <td>0.315985</td>\n",
       "      <td>{'energy': 303.43539955190437, 'fat': 5.094846...</td>\n",
       "      <td>[0.19268110530246452, 0.7595220313666916, 0.04...</td>\n",
       "    </tr>\n",
       "  </tbody>\n",
       "</table>\n",
       "</div>"
      ],
      "text/plain": [
       "           id                                        dish_name  \\\n",
       "0  000095fc1d                                  Yogurt Parfaits   \n",
       "1  00051d5b9d  Salt Free, Low Cholesterol Sugar Cookies Recipe   \n",
       "2  00059b093b                     Honey Sriracha Chicken Wings   \n",
       "3  0005fc89f7                           Shrimp and Caper Salad   \n",
       "4  0006ca31f4         Natural Peanut Butter Chocolate Bon Bons   \n",
       "\n",
       "                                         ingredients  \\\n",
       "0  ['yogurt, greek, plain, nonfat', 'strawberries...   \n",
       "1  ['sugars, granulated', 'oil, corn, peanut, and...   \n",
       "2  ['chicken, broilers or fryers, wing, meat and ...   \n",
       "3  ['crustaceans, shrimp, raw (not previously fro...   \n",
       "4  ['cocoa, dry powder, unsweetened', 'honey', 'p...   \n",
       "\n",
       "                                     weight_per_ingr  total_dish_weight  \\\n",
       "0                             [226.796, 152.0, 30.5]         409.296000   \n",
       "1  [100.80000000000001, 168.0, 21.25, 5.166666666...         747.808333   \n",
       "2  [1360.7759999999998, 6.0, 1.15, 13.5, 42.59999...        1579.409333   \n",
       "3  [907.184, 75.0, 151.5, 25.799999999999997, 134...        1574.431917   \n",
       "4                            [1032.0, 4068.0, 256.0]        5356.000000   \n",
       "\n",
       "   total_footprint  dish_footprint_per_100gr  confidence_score  \\\n",
       "0         0.522744                  0.127718          1.000000   \n",
       "1         1.189488                  0.159063          1.000000   \n",
       "2         6.446860                  0.408182          1.000000   \n",
       "3         5.838564                  0.370836          0.983613   \n",
       "4         4.367520                  0.081544          0.807319   \n",
       "\n",
       "   dish_footprint_per_kilo co2_score  km_driven_per_100gr  \\\n",
       "0                 1.277178       low             0.494907   \n",
       "1                 1.590633       low             0.616370   \n",
       "2                 4.081817      high             1.581704   \n",
       "3                 3.708362      high             1.436990   \n",
       "4                 0.815444       low             0.315985   \n",
       "\n",
       "                                 nutrients_per_100gr  \\\n",
       "0  {'energy': 81.12946131894766, 'fat': 2.1401392...   \n",
       "1  {'energy': 477.09640393594606, 'fat': 23.41248...   \n",
       "2  {'energy': 208.05898280960727, 'fat': 14.29704...   \n",
       "3  {'energy': 194.7525956849092, 'fat': 15.980767...   \n",
       "4  {'energy': 303.43539955190437, 'fat': 5.094846...   \n",
       "\n",
       "                            proportion_of_ingredient  \n",
       "0  [0.5541124271920566, 0.3713693757085337, 0.074...  \n",
       "1  [0.13479389772334713, 0.2246564962055785, 0.02...  \n",
       "2  [0.8615727229673203, 0.0037988885296359742, 0....  \n",
       "3  [0.5761976687570326, 0.0476362294273019, 0.096...  \n",
       "4  [0.19268110530246452, 0.7595220313666916, 0.04...  "
      ]
     },
     "execution_count": 87,
     "metadata": {},
     "output_type": "execute_result"
    }
   ],
   "source": [
    "df_co2 = pd.read_csv('../foodprint/data/dishes_with_co2_nutrients_2.csv')\n",
    "print(df_co2.shape)\n",
    "df_co2.head()"
   ]
  },
  {
   "cell_type": "code",
   "execution_count": 83,
   "id": "c643c95e",
   "metadata": {},
   "outputs": [],
   "source": [
    "df = df.merge(df_co2[['id','dish_footprint_per_100gr']], on='id', how='inner')\n"
   ]
  },
  {
   "cell_type": "code",
   "execution_count": 84,
   "id": "f31cb5d6",
   "metadata": {},
   "outputs": [
    {
     "data": {
      "text/html": [
       "<div>\n",
       "<style scoped>\n",
       "    .dataframe tbody tr th:only-of-type {\n",
       "        vertical-align: middle;\n",
       "    }\n",
       "\n",
       "    .dataframe tbody tr th {\n",
       "        vertical-align: top;\n",
       "    }\n",
       "\n",
       "    .dataframe thead th {\n",
       "        text-align: right;\n",
       "    }\n",
       "</style>\n",
       "<table border=\"1\" class=\"dataframe\">\n",
       "  <thead>\n",
       "    <tr style=\"text-align: right;\">\n",
       "      <th></th>\n",
       "      <th>id</th>\n",
       "      <th>recipeName</th>\n",
       "      <th>co2</th>\n",
       "      <th>ingredients</th>\n",
       "      <th>bow</th>\n",
       "      <th>dish_footprint_per_100gr_x</th>\n",
       "      <th>dish_footprint_per_100gr_y</th>\n",
       "      <th>co2</th>\n",
       "      <th>co2</th>\n",
       "      <th>nutritional_value</th>\n",
       "    </tr>\n",
       "  </thead>\n",
       "  <tbody>\n",
       "    <tr>\n",
       "      <th>0</th>\n",
       "      <td>000095fc1d</td>\n",
       "      <td>Yogurt Parfaits</td>\n",
       "      <td>0.127718</td>\n",
       "      <td>[yogurt, greek, strawberries, cereals, granola]</td>\n",
       "      <td>{'yogurt': 1, 'greek': 1, 'strawberries': 1, '...</td>\n",
       "      <td>0.127718</td>\n",
       "      <td>0.127718</td>\n",
       "      <td>0.127718</td>\n",
       "      <td>0.127718</td>\n",
       "      <td>2</td>\n",
       "    </tr>\n",
       "    <tr>\n",
       "      <th>1</th>\n",
       "      <td>00051d5b9d</td>\n",
       "      <td>Salt Free, Low Cholesterol Sugar Cookies Recipe</td>\n",
       "      <td>0.159063</td>\n",
       "      <td>[sugar, oil corn peanut, olive, egg substitute...</td>\n",
       "      <td>{'sugar': 1, 'oil corn peanut': 1, 'olive': 1,...</td>\n",
       "      <td>0.159063</td>\n",
       "      <td>0.159063</td>\n",
       "      <td>0.159063</td>\n",
       "      <td>0.159063</td>\n",
       "      <td>17</td>\n",
       "    </tr>\n",
       "    <tr>\n",
       "      <th>2</th>\n",
       "      <td>00059b093b</td>\n",
       "      <td>Honey Sriracha Chicken Wings</td>\n",
       "      <td>0.408182</td>\n",
       "      <td>[chicken, broil, meat, skin, salt table, spice...</td>\n",
       "      <td>{'chicken': 1, 'broil': 1, 'meat': 1, 'skin': ...</td>\n",
       "      <td>0.408182</td>\n",
       "      <td>0.408182</td>\n",
       "      <td>0.408182</td>\n",
       "      <td>0.408182</td>\n",
       "      <td>16</td>\n",
       "    </tr>\n",
       "    <tr>\n",
       "      <th>3</th>\n",
       "      <td>0005fc89f7</td>\n",
       "      <td>Shrimp and Caper Salad</td>\n",
       "      <td>0.370836</td>\n",
       "      <td>[crust, aceans shrimp, onions spring, scallion...</td>\n",
       "      <td>{'crust': 1, 'aceans shrimp': 1, 'onions sprin...</td>\n",
       "      <td>0.370836</td>\n",
       "      <td>0.370836</td>\n",
       "      <td>0.370836</td>\n",
       "      <td>0.370836</td>\n",
       "      <td>10</td>\n",
       "    </tr>\n",
       "    <tr>\n",
       "      <th>4</th>\n",
       "      <td>0006ca31f4</td>\n",
       "      <td>Natural Peanut Butter Chocolate Bon Bons</td>\n",
       "      <td>0.081544</td>\n",
       "      <td>[cocoa dry powder, honey, peanut butter, salt]</td>\n",
       "      <td>{'cocoa dry powder': 1, 'honey': 1, 'peanut bu...</td>\n",
       "      <td>0.081544</td>\n",
       "      <td>0.081544</td>\n",
       "      <td>0.081544</td>\n",
       "      <td>0.081544</td>\n",
       "      <td>15</td>\n",
       "    </tr>\n",
       "  </tbody>\n",
       "</table>\n",
       "</div>"
      ],
      "text/plain": [
       "           id                                       recipeName       co2  \\\n",
       "0  000095fc1d                                  Yogurt Parfaits  0.127718   \n",
       "1  00051d5b9d  Salt Free, Low Cholesterol Sugar Cookies Recipe  0.159063   \n",
       "2  00059b093b                     Honey Sriracha Chicken Wings  0.408182   \n",
       "3  0005fc89f7                           Shrimp and Caper Salad  0.370836   \n",
       "4  0006ca31f4         Natural Peanut Butter Chocolate Bon Bons  0.081544   \n",
       "\n",
       "                                         ingredients  \\\n",
       "0    [yogurt, greek, strawberries, cereals, granola]   \n",
       "1  [sugar, oil corn peanut, olive, egg substitute...   \n",
       "2  [chicken, broil, meat, skin, salt table, spice...   \n",
       "3  [crust, aceans shrimp, onions spring, scallion...   \n",
       "4     [cocoa dry powder, honey, peanut butter, salt]   \n",
       "\n",
       "                                                 bow  \\\n",
       "0  {'yogurt': 1, 'greek': 1, 'strawberries': 1, '...   \n",
       "1  {'sugar': 1, 'oil corn peanut': 1, 'olive': 1,...   \n",
       "2  {'chicken': 1, 'broil': 1, 'meat': 1, 'skin': ...   \n",
       "3  {'crust': 1, 'aceans shrimp': 1, 'onions sprin...   \n",
       "4  {'cocoa dry powder': 1, 'honey': 1, 'peanut bu...   \n",
       "\n",
       "   dish_footprint_per_100gr_x  dish_footprint_per_100gr_y       co2       co2  \\\n",
       "0                    0.127718                    0.127718  0.127718  0.127718   \n",
       "1                    0.159063                    0.159063  0.159063  0.159063   \n",
       "2                    0.408182                    0.408182  0.408182  0.408182   \n",
       "3                    0.370836                    0.370836  0.370836  0.370836   \n",
       "4                    0.081544                    0.081544  0.081544  0.081544   \n",
       "\n",
       "   nutritional_value  \n",
       "0                  2  \n",
       "1                 17  \n",
       "2                 16  \n",
       "3                 10  \n",
       "4                 15  "
      ]
     },
     "execution_count": 84,
     "metadata": {},
     "output_type": "execute_result"
    }
   ],
   "source": [
    "df.rename(columns={'dish_footprint_per_100gr':'co2'}, inplace=True)\n",
    "df.head()"
   ]
  },
  {
   "cell_type": "markdown",
   "id": "353a17ee",
   "metadata": {},
   "source": [
    "### Calculate nutri-score"
   ]
  },
  {
   "cell_type": "code",
   "execution_count": 91,
   "id": "5b16db5a",
   "metadata": {},
   "outputs": [
    {
     "data": {
      "text/plain": [
       "{'energy': 477.09640393594606,\n",
       " 'fat': 23.412485931109796,\n",
       " 'protein': 7.625491714677334,\n",
       " 'salt': 0.5486205522805532,\n",
       " 'saturates': 3.4250537682338384,\n",
       " 'sugars': 14.298442949953758}"
      ]
     },
     "execution_count": 91,
     "metadata": {},
     "output_type": "execute_result"
    }
   ],
   "source": [
    "import ast\n",
    "df_co2['nutrients_per_100gr'] = df_co2['nutrients_per_100gr'].apply(lambda x :ast.literal_eval(x)) \n",
    "df_co2.iloc[1]['nutrients_per_100gr']"
   ]
  },
  {
   "cell_type": "code",
   "execution_count": 92,
   "id": "7fd5b77a",
   "metadata": {},
   "outputs": [
    {
     "data": {
      "text/html": [
       "<div>\n",
       "<style scoped>\n",
       "    .dataframe tbody tr th:only-of-type {\n",
       "        vertical-align: middle;\n",
       "    }\n",
       "\n",
       "    .dataframe tbody tr th {\n",
       "        vertical-align: top;\n",
       "    }\n",
       "\n",
       "    .dataframe thead th {\n",
       "        text-align: right;\n",
       "    }\n",
       "</style>\n",
       "<table border=\"1\" class=\"dataframe\">\n",
       "  <thead>\n",
       "    <tr style=\"text-align: right;\">\n",
       "      <th></th>\n",
       "      <th>id</th>\n",
       "      <th>nutrients_per_100gr</th>\n",
       "    </tr>\n",
       "  </thead>\n",
       "  <tbody>\n",
       "    <tr>\n",
       "      <th>0</th>\n",
       "      <td>000095fc1d</td>\n",
       "      <td>{'energy': 81.12946131894766, 'fat': 2.1401392...</td>\n",
       "    </tr>\n",
       "    <tr>\n",
       "      <th>1</th>\n",
       "      <td>00051d5b9d</td>\n",
       "      <td>{'energy': 477.09640393594606, 'fat': 23.41248...</td>\n",
       "    </tr>\n",
       "    <tr>\n",
       "      <th>2</th>\n",
       "      <td>00059b093b</td>\n",
       "      <td>{'energy': 208.05898280960727, 'fat': 14.29704...</td>\n",
       "    </tr>\n",
       "    <tr>\n",
       "      <th>3</th>\n",
       "      <td>0005fc89f7</td>\n",
       "      <td>{'energy': 194.7525956849092, 'fat': 15.980767...</td>\n",
       "    </tr>\n",
       "    <tr>\n",
       "      <th>4</th>\n",
       "      <td>0006ca31f4</td>\n",
       "      <td>{'energy': 303.43539955190437, 'fat': 5.094846...</td>\n",
       "    </tr>\n",
       "  </tbody>\n",
       "</table>\n",
       "</div>"
      ],
      "text/plain": [
       "           id                                nutrients_per_100gr\n",
       "0  000095fc1d  {'energy': 81.12946131894766, 'fat': 2.1401392...\n",
       "1  00051d5b9d  {'energy': 477.09640393594606, 'fat': 23.41248...\n",
       "2  00059b093b  {'energy': 208.05898280960727, 'fat': 14.29704...\n",
       "3  0005fc89f7  {'energy': 194.7525956849092, 'fat': 15.980767...\n",
       "4  0006ca31f4  {'energy': 303.43539955190437, 'fat': 5.094846..."
      ]
     },
     "execution_count": 92,
     "metadata": {},
     "output_type": "execute_result"
    }
   ],
   "source": [
    "df_nutri = df_co2[['id','nutrients_per_100gr']]\n",
    "df_nutri.head()"
   ]
  },
  {
   "cell_type": "code",
   "execution_count": 93,
   "id": "38ef152f",
   "metadata": {},
   "outputs": [],
   "source": [
    "vect_nutri = DictVectorizer(sparse=False)\n",
    "X_nutri = vect_nutri.fit_transform(df_nutri.nutrients_per_100gr.tolist())"
   ]
  },
  {
   "cell_type": "code",
   "execution_count": 94,
   "id": "b890c6b2",
   "metadata": {},
   "outputs": [
    {
     "data": {
      "text/plain": [
       "['energy', 'fat', 'protein', 'salt', 'saturates', 'sugars']"
      ]
     },
     "execution_count": 94,
     "metadata": {},
     "output_type": "execute_result"
    }
   ],
   "source": [
    "vect_nutri.feature_names_"
   ]
  },
  {
   "cell_type": "code",
   "execution_count": 95,
   "id": "0688bcf4",
   "metadata": {},
   "outputs": [],
   "source": [
    "def energy_score(x):\n",
    "    x_joul = x*4.18\n",
    "    levels = [335,670,1005,1340,1675,2010,2345,2680,3015,3350]\n",
    "    scores = [0,1,2,3,4,5,6,7,8,9]\n",
    "    for level, score in zip(levels,scores):\n",
    "        if x_joul < level:\n",
    "            return score\n",
    "    return 10\n",
    "\n",
    "def sugar_score(x):\n",
    "    levels = [4.5,9,13.5,18,22.5,27,31.5,36,40,45]\n",
    "    scores = [0,1,2,3,4,5,6,7,8,9]\n",
    "    for level, score in zip(levels,scores):\n",
    "        if x < level:\n",
    "            return score\n",
    "    return 10\n",
    "\n",
    "def salt_score(x):\n",
    "    x_mg = x*1000\n",
    "    levels = [90,180,270,360,450,540,630,720,810,900]\n",
    "    scores = [0,1,2,3,4,5,6,7,8,9]\n",
    "    for level, score in zip(levels,scores):\n",
    "        if x_mg < level:\n",
    "            return score\n",
    "    return 10\n",
    "\n",
    "def saturates_score(x):\n",
    "    levels = [1,2,3,4,5,6,7,8,9,10]\n",
    "    scores = [0,1,2,3,4,5,6,7,8,9]\n",
    "    for level, score in zip(levels,scores):\n",
    "        if x < level:\n",
    "            return score\n",
    "    return 10"
   ]
  },
  {
   "cell_type": "code",
   "execution_count": 96,
   "id": "c763b6d3",
   "metadata": {},
   "outputs": [
    {
     "data": {
      "text/html": [
       "<div>\n",
       "<style scoped>\n",
       "    .dataframe tbody tr th:only-of-type {\n",
       "        vertical-align: middle;\n",
       "    }\n",
       "\n",
       "    .dataframe tbody tr th {\n",
       "        vertical-align: top;\n",
       "    }\n",
       "\n",
       "    .dataframe thead th {\n",
       "        text-align: right;\n",
       "    }\n",
       "</style>\n",
       "<table border=\"1\" class=\"dataframe\">\n",
       "  <thead>\n",
       "    <tr style=\"text-align: right;\">\n",
       "      <th></th>\n",
       "      <th>id</th>\n",
       "      <th>energy</th>\n",
       "      <th>salt</th>\n",
       "      <th>saturates</th>\n",
       "      <th>sugars</th>\n",
       "      <th>nutritional_value</th>\n",
       "    </tr>\n",
       "  </thead>\n",
       "  <tbody>\n",
       "    <tr>\n",
       "      <th>0</th>\n",
       "      <td>000095fc1d</td>\n",
       "      <td>1</td>\n",
       "      <td>0</td>\n",
       "      <td>0</td>\n",
       "      <td>1</td>\n",
       "      <td>2</td>\n",
       "    </tr>\n",
       "    <tr>\n",
       "      <th>1</th>\n",
       "      <td>00051d5b9d</td>\n",
       "      <td>5</td>\n",
       "      <td>6</td>\n",
       "      <td>3</td>\n",
       "      <td>3</td>\n",
       "      <td>17</td>\n",
       "    </tr>\n",
       "    <tr>\n",
       "      <th>2</th>\n",
       "      <td>00059b093b</td>\n",
       "      <td>2</td>\n",
       "      <td>10</td>\n",
       "      <td>4</td>\n",
       "      <td>0</td>\n",
       "      <td>16</td>\n",
       "    </tr>\n",
       "    <tr>\n",
       "      <th>3</th>\n",
       "      <td>0005fc89f7</td>\n",
       "      <td>2</td>\n",
       "      <td>6</td>\n",
       "      <td>2</td>\n",
       "      <td>0</td>\n",
       "      <td>10</td>\n",
       "    </tr>\n",
       "    <tr>\n",
       "      <th>4</th>\n",
       "      <td>0006ca31f4</td>\n",
       "      <td>3</td>\n",
       "      <td>0</td>\n",
       "      <td>2</td>\n",
       "      <td>10</td>\n",
       "      <td>15</td>\n",
       "    </tr>\n",
       "  </tbody>\n",
       "</table>\n",
       "</div>"
      ],
      "text/plain": [
       "           id  energy  salt  saturates  sugars  nutritional_value\n",
       "0  000095fc1d       1     0          0       1                  2\n",
       "1  00051d5b9d       5     6          3       3                 17\n",
       "2  00059b093b       2    10          4       0                 16\n",
       "3  0005fc89f7       2     6          2       0                 10\n",
       "4  0006ca31f4       3     0          2      10                 15"
      ]
     },
     "execution_count": 96,
     "metadata": {},
     "output_type": "execute_result"
    }
   ],
   "source": [
    "df_nutrition = pd.DataFrame(X_nutri, columns=vect_nutri.feature_names_, index=df_nutri.id).drop(columns=['fat','protein'])\n",
    "df_nutrition['energy'] = df_nutrition['energy'].apply(lambda x : energy_score(x))\n",
    "df_nutrition['sugars'] = df_nutrition['sugars'].apply(lambda x : sugar_score(x))\n",
    "df_nutrition['salt'] = df_nutrition['salt'].apply(lambda x : salt_score(x))\n",
    "df_nutrition['saturates'] = df_nutrition['saturates'].apply(lambda x : saturates_score(x))\n",
    "df_nutrition['nutritional_value'] = df_nutrition.sum(axis=1)\n",
    "df_nutrition = df_nutrition.reset_index()\n",
    "df_nutrition.head()"
   ]
  },
  {
   "cell_type": "code",
   "execution_count": 97,
   "id": "97f06a4c",
   "metadata": {},
   "outputs": [],
   "source": [
    "df = df.merge(df_nutrition[['id','nutritional_value']], on='id', how='inner')"
   ]
  },
  {
   "cell_type": "code",
   "execution_count": 98,
   "id": "6a42ea70",
   "metadata": {},
   "outputs": [
    {
     "data": {
      "text/html": [
       "<div>\n",
       "<style scoped>\n",
       "    .dataframe tbody tr th:only-of-type {\n",
       "        vertical-align: middle;\n",
       "    }\n",
       "\n",
       "    .dataframe tbody tr th {\n",
       "        vertical-align: top;\n",
       "    }\n",
       "\n",
       "    .dataframe thead th {\n",
       "        text-align: right;\n",
       "    }\n",
       "</style>\n",
       "<table border=\"1\" class=\"dataframe\">\n",
       "  <thead>\n",
       "    <tr style=\"text-align: right;\">\n",
       "      <th></th>\n",
       "      <th>id</th>\n",
       "      <th>recipeName</th>\n",
       "      <th>co2</th>\n",
       "      <th>ingredients</th>\n",
       "      <th>bow</th>\n",
       "      <th>nutritional_value</th>\n",
       "    </tr>\n",
       "  </thead>\n",
       "  <tbody>\n",
       "    <tr>\n",
       "      <th>0</th>\n",
       "      <td>000095fc1d</td>\n",
       "      <td>Yogurt Parfaits</td>\n",
       "      <td>0.127718</td>\n",
       "      <td>[yogurt, greek, strawberries, cereals, granola]</td>\n",
       "      <td>{'yogurt': 1, 'greek': 1, 'strawberries': 1, '...</td>\n",
       "      <td>2</td>\n",
       "    </tr>\n",
       "    <tr>\n",
       "      <th>1</th>\n",
       "      <td>00051d5b9d</td>\n",
       "      <td>Salt Free, Low Cholesterol Sugar Cookies Recipe</td>\n",
       "      <td>0.159063</td>\n",
       "      <td>[sugar, oil corn peanut, olive, egg substitute...</td>\n",
       "      <td>{'sugar': 1, 'oil corn peanut': 1, 'olive': 1,...</td>\n",
       "      <td>17</td>\n",
       "    </tr>\n",
       "    <tr>\n",
       "      <th>2</th>\n",
       "      <td>00059b093b</td>\n",
       "      <td>Honey Sriracha Chicken Wings</td>\n",
       "      <td>0.408182</td>\n",
       "      <td>[chicken, broil, meat, skin, salt table, spice...</td>\n",
       "      <td>{'chicken': 1, 'broil': 1, 'meat': 1, 'skin': ...</td>\n",
       "      <td>16</td>\n",
       "    </tr>\n",
       "    <tr>\n",
       "      <th>3</th>\n",
       "      <td>0005fc89f7</td>\n",
       "      <td>Shrimp and Caper Salad</td>\n",
       "      <td>0.370836</td>\n",
       "      <td>[crust, aceans shrimp, onions spring, scallion...</td>\n",
       "      <td>{'crust': 1, 'aceans shrimp': 1, 'onions sprin...</td>\n",
       "      <td>10</td>\n",
       "    </tr>\n",
       "    <tr>\n",
       "      <th>4</th>\n",
       "      <td>0006ca31f4</td>\n",
       "      <td>Natural Peanut Butter Chocolate Bon Bons</td>\n",
       "      <td>0.081544</td>\n",
       "      <td>[cocoa dry powder, honey, peanut butter, salt]</td>\n",
       "      <td>{'cocoa dry powder': 1, 'honey': 1, 'peanut bu...</td>\n",
       "      <td>15</td>\n",
       "    </tr>\n",
       "  </tbody>\n",
       "</table>\n",
       "</div>"
      ],
      "text/plain": [
       "           id                                       recipeName       co2  \\\n",
       "0  000095fc1d                                  Yogurt Parfaits  0.127718   \n",
       "1  00051d5b9d  Salt Free, Low Cholesterol Sugar Cookies Recipe  0.159063   \n",
       "2  00059b093b                     Honey Sriracha Chicken Wings  0.408182   \n",
       "3  0005fc89f7                           Shrimp and Caper Salad  0.370836   \n",
       "4  0006ca31f4         Natural Peanut Butter Chocolate Bon Bons  0.081544   \n",
       "\n",
       "                                         ingredients  \\\n",
       "0    [yogurt, greek, strawberries, cereals, granola]   \n",
       "1  [sugar, oil corn peanut, olive, egg substitute...   \n",
       "2  [chicken, broil, meat, skin, salt table, spice...   \n",
       "3  [crust, aceans shrimp, onions spring, scallion...   \n",
       "4     [cocoa dry powder, honey, peanut butter, salt]   \n",
       "\n",
       "                                                 bow  nutritional_value  \n",
       "0  {'yogurt': 1, 'greek': 1, 'strawberries': 1, '...                  2  \n",
       "1  {'sugar': 1, 'oil corn peanut': 1, 'olive': 1,...                 17  \n",
       "2  {'chicken': 1, 'broil': 1, 'meat': 1, 'skin': ...                 16  \n",
       "3  {'crust': 1, 'aceans shrimp': 1, 'onions sprin...                 10  \n",
       "4  {'cocoa dry powder': 1, 'honey': 1, 'peanut bu...                 15  "
      ]
     },
     "execution_count": 98,
     "metadata": {},
     "output_type": "execute_result"
    }
   ],
   "source": [
    "df.head()"
   ]
  },
  {
   "cell_type": "markdown",
   "id": "96f83174",
   "metadata": {},
   "source": [
    "# - Clean the ingredients"
   ]
  },
  {
   "cell_type": "markdown",
   "id": "caa88eb5",
   "metadata": {},
   "source": [
    "## FoodBert"
   ]
  },
  {
   "cell_type": "code",
   "execution_count": 33,
   "id": "eba7995c",
   "metadata": {},
   "outputs": [],
   "source": [
    "model = FoodModel(\"chambliss/distilbert-for-food-extraction\")"
   ]
  },
  {
   "cell_type": "code",
   "execution_count": 157,
   "id": "a501f8fe",
   "metadata": {},
   "outputs": [],
   "source": [
    "df_cleaned = df.copy()"
   ]
  },
  {
   "cell_type": "code",
   "execution_count": 158,
   "id": "7f028ab2",
   "metadata": {},
   "outputs": [],
   "source": [
    "df_cleaned['ingredients2'] = df_cleaned['ingredients'].apply(lambda x : \\\n",
    "                                                                     [ing['text'] for ing in model.extract_foods(','.join([ing for ing in x]))[0]['Ingredient']])\n"
   ]
  },
  {
   "cell_type": "code",
   "execution_count": 159,
   "id": "517e0474",
   "metadata": {
    "scrolled": true
   },
   "outputs": [
    {
     "name": "stdout",
     "output_type": "stream",
     "text": [
      "(51235, 4)\n"
     ]
    },
    {
     "data": {
      "text/html": [
       "<div>\n",
       "<style scoped>\n",
       "    .dataframe tbody tr th:only-of-type {\n",
       "        vertical-align: middle;\n",
       "    }\n",
       "\n",
       "    .dataframe tbody tr th {\n",
       "        vertical-align: top;\n",
       "    }\n",
       "\n",
       "    .dataframe thead th {\n",
       "        text-align: right;\n",
       "    }\n",
       "</style>\n",
       "<table border=\"1\" class=\"dataframe\">\n",
       "  <thead>\n",
       "    <tr style=\"text-align: right;\">\n",
       "      <th></th>\n",
       "      <th>id</th>\n",
       "      <th>recipeName</th>\n",
       "      <th>co2</th>\n",
       "      <th>ingredients</th>\n",
       "    </tr>\n",
       "  </thead>\n",
       "  <tbody>\n",
       "    <tr>\n",
       "      <th>0</th>\n",
       "      <td>000095fc1d</td>\n",
       "      <td>Yogurt Parfaits</td>\n",
       "      <td>0.127718</td>\n",
       "      <td>[yogurt, greek, strawberries, cereals, granola]</td>\n",
       "    </tr>\n",
       "    <tr>\n",
       "      <th>1</th>\n",
       "      <td>00051d5b9d</td>\n",
       "      <td>Salt Free, Low Cholesterol Sugar Cookies Recipe</td>\n",
       "      <td>0.159063</td>\n",
       "      <td>[sugar, oil corn peanut, olive, egg substitute...</td>\n",
       "    </tr>\n",
       "    <tr>\n",
       "      <th>2</th>\n",
       "      <td>00059b093b</td>\n",
       "      <td>Honey Sriracha Chicken Wings</td>\n",
       "      <td>0.408182</td>\n",
       "      <td>[chicken, broil, meat, skin, salt table, spice...</td>\n",
       "    </tr>\n",
       "    <tr>\n",
       "      <th>3</th>\n",
       "      <td>0005fc89f7</td>\n",
       "      <td>Shrimp and Caper Salad</td>\n",
       "      <td>0.370836</td>\n",
       "      <td>[crust, aceans shrimp, onions spring, scallion...</td>\n",
       "    </tr>\n",
       "    <tr>\n",
       "      <th>4</th>\n",
       "      <td>0006ca31f4</td>\n",
       "      <td>Natural Peanut Butter Chocolate Bon Bons</td>\n",
       "      <td>0.081544</td>\n",
       "      <td>[cocoa dry powder, honey, peanut butter, salt]</td>\n",
       "    </tr>\n",
       "    <tr>\n",
       "      <th>...</th>\n",
       "      <td>...</td>\n",
       "      <td>...</td>\n",
       "      <td>...</td>\n",
       "      <td>...</td>\n",
       "    </tr>\n",
       "    <tr>\n",
       "      <th>51220</th>\n",
       "      <td>ffefad6dcc</td>\n",
       "      <td>Pumpkin-raisin Cookies</td>\n",
       "      <td>0.204514</td>\n",
       "      <td>[wheat flour, sugars, powder, sodium aluminum ...</td>\n",
       "    </tr>\n",
       "    <tr>\n",
       "      <th>51221</th>\n",
       "      <td>fff06938d1</td>\n",
       "      <td>Mother's Sticky Roasted Chicken (Cajun)</td>\n",
       "      <td>0.318114</td>\n",
       "      <td>[salt, spices paprika, spices pepper red, caye...</td>\n",
       "    </tr>\n",
       "    <tr>\n",
       "      <th>51222</th>\n",
       "      <td>fff1025216</td>\n",
       "      <td>Country Dijon Salad Dressing</td>\n",
       "      <td>0.182401</td>\n",
       "      <td>[yellow, apple juice, sugars, parsley, spices ...</td>\n",
       "    </tr>\n",
       "    <tr>\n",
       "      <th>51223</th>\n",
       "      <td>fff2c7c05d</td>\n",
       "      <td>Zesty Mashed Potatoes</td>\n",
       "      <td>0.181304</td>\n",
       "      <td>[skin, soymilk, vanilla, horseradish, oil canola]</td>\n",
       "    </tr>\n",
       "    <tr>\n",
       "      <th>51224</th>\n",
       "      <td>fff5be8363</td>\n",
       "      <td>Southwest Smoothie</td>\n",
       "      <td>0.068261</td>\n",
       "      <td>[banana, papayas, milk fluid, vitamin a, vitam...</td>\n",
       "    </tr>\n",
       "  </tbody>\n",
       "</table>\n",
       "<p>51225 rows × 4 columns</p>\n",
       "</div>"
      ],
      "text/plain": [
       "               id                                       recipeName       co2  \\\n",
       "0      000095fc1d                                  Yogurt Parfaits  0.127718   \n",
       "1      00051d5b9d  Salt Free, Low Cholesterol Sugar Cookies Recipe  0.159063   \n",
       "2      00059b093b                     Honey Sriracha Chicken Wings  0.408182   \n",
       "3      0005fc89f7                           Shrimp and Caper Salad  0.370836   \n",
       "4      0006ca31f4         Natural Peanut Butter Chocolate Bon Bons  0.081544   \n",
       "...           ...                                              ...       ...   \n",
       "51220  ffefad6dcc                           Pumpkin-raisin Cookies  0.204514   \n",
       "51221  fff06938d1          Mother's Sticky Roasted Chicken (Cajun)  0.318114   \n",
       "51222  fff1025216                     Country Dijon Salad Dressing  0.182401   \n",
       "51223  fff2c7c05d                            Zesty Mashed Potatoes  0.181304   \n",
       "51224  fff5be8363                               Southwest Smoothie  0.068261   \n",
       "\n",
       "                                             ingredients  \n",
       "0        [yogurt, greek, strawberries, cereals, granola]  \n",
       "1      [sugar, oil corn peanut, olive, egg substitute...  \n",
       "2      [chicken, broil, meat, skin, salt table, spice...  \n",
       "3      [crust, aceans shrimp, onions spring, scallion...  \n",
       "4         [cocoa dry powder, honey, peanut butter, salt]  \n",
       "...                                                  ...  \n",
       "51220  [wheat flour, sugars, powder, sodium aluminum ...  \n",
       "51221  [salt, spices paprika, spices pepper red, caye...  \n",
       "51222  [yellow, apple juice, sugars, parsley, spices ...  \n",
       "51223  [skin, soymilk, vanilla, horseradish, oil canola]  \n",
       "51224  [banana, papayas, milk fluid, vitamin a, vitam...  \n",
       "\n",
       "[51225 rows x 4 columns]"
      ]
     },
     "execution_count": 159,
     "metadata": {},
     "output_type": "execute_result"
    }
   ],
   "source": [
    "df_cleaned.drop(columns=['ingredients'], inplace=True)\n",
    "df_cleaned.rename(columns={'ingredients2':'ingredients'}, inplace=True)\n",
    "print(df_cleaned.shape)\n",
    "df_cleaned.head(-10)"
   ]
  },
  {
   "cell_type": "code",
   "execution_count": 160,
   "id": "61b6c783",
   "metadata": {},
   "outputs": [],
   "source": [
    "df = df_cleaned.copy()"
   ]
  },
  {
   "cell_type": "code",
   "execution_count": 161,
   "id": "77c2b4bf",
   "metadata": {},
   "outputs": [
    {
     "data": {
      "text/html": [
       "<div>\n",
       "<style scoped>\n",
       "    .dataframe tbody tr th:only-of-type {\n",
       "        vertical-align: middle;\n",
       "    }\n",
       "\n",
       "    .dataframe tbody tr th {\n",
       "        vertical-align: top;\n",
       "    }\n",
       "\n",
       "    .dataframe thead th {\n",
       "        text-align: right;\n",
       "    }\n",
       "</style>\n",
       "<table border=\"1\" class=\"dataframe\">\n",
       "  <thead>\n",
       "    <tr style=\"text-align: right;\">\n",
       "      <th></th>\n",
       "      <th>id</th>\n",
       "      <th>recipeName</th>\n",
       "      <th>co2</th>\n",
       "      <th>ingredients</th>\n",
       "    </tr>\n",
       "  </thead>\n",
       "  <tbody>\n",
       "    <tr>\n",
       "      <th>0</th>\n",
       "      <td>000095fc1d</td>\n",
       "      <td>Yogurt Parfaits</td>\n",
       "      <td>0.127718</td>\n",
       "      <td>[yogurt, greek, strawberries, cereals, granola]</td>\n",
       "    </tr>\n",
       "    <tr>\n",
       "      <th>1</th>\n",
       "      <td>00051d5b9d</td>\n",
       "      <td>Salt Free, Low Cholesterol Sugar Cookies Recipe</td>\n",
       "      <td>0.159063</td>\n",
       "      <td>[sugar, oil corn peanut, olive, egg substitute...</td>\n",
       "    </tr>\n",
       "    <tr>\n",
       "      <th>2</th>\n",
       "      <td>00059b093b</td>\n",
       "      <td>Honey Sriracha Chicken Wings</td>\n",
       "      <td>0.408182</td>\n",
       "      <td>[chicken, broil, meat, skin, salt table, spice...</td>\n",
       "    </tr>\n",
       "    <tr>\n",
       "      <th>3</th>\n",
       "      <td>0005fc89f7</td>\n",
       "      <td>Shrimp and Caper Salad</td>\n",
       "      <td>0.370836</td>\n",
       "      <td>[crust, aceans shrimp, onions spring, scallion...</td>\n",
       "    </tr>\n",
       "    <tr>\n",
       "      <th>4</th>\n",
       "      <td>0006ca31f4</td>\n",
       "      <td>Natural Peanut Butter Chocolate Bon Bons</td>\n",
       "      <td>0.081544</td>\n",
       "      <td>[cocoa dry powder, honey, peanut butter, salt]</td>\n",
       "    </tr>\n",
       "  </tbody>\n",
       "</table>\n",
       "</div>"
      ],
      "text/plain": [
       "           id                                       recipeName       co2  \\\n",
       "0  000095fc1d                                  Yogurt Parfaits  0.127718   \n",
       "1  00051d5b9d  Salt Free, Low Cholesterol Sugar Cookies Recipe  0.159063   \n",
       "2  00059b093b                     Honey Sriracha Chicken Wings  0.408182   \n",
       "3  0005fc89f7                           Shrimp and Caper Salad  0.370836   \n",
       "4  0006ca31f4         Natural Peanut Butter Chocolate Bon Bons  0.081544   \n",
       "\n",
       "                                         ingredients  \n",
       "0    [yogurt, greek, strawberries, cereals, granola]  \n",
       "1  [sugar, oil corn peanut, olive, egg substitute...  \n",
       "2  [chicken, broil, meat, skin, salt table, spice...  \n",
       "3  [crust, aceans shrimp, onions spring, scallion...  \n",
       "4     [cocoa dry powder, honey, peanut butter, salt]  "
      ]
     },
     "execution_count": 161,
     "metadata": {},
     "output_type": "execute_result"
    }
   ],
   "source": [
    "df.head()"
   ]
  },
  {
   "cell_type": "markdown",
   "id": "71c7b2b3",
   "metadata": {},
   "source": [
    "## Food Categorization"
   ]
  },
  {
   "cell_type": "code",
   "execution_count": 162,
   "id": "5670336c",
   "metadata": {},
   "outputs": [],
   "source": [
    "df_ingredients = df[['ingredients']]"
   ]
  },
  {
   "cell_type": "code",
   "execution_count": 163,
   "id": "1d457e8a",
   "metadata": {
    "scrolled": true
   },
   "outputs": [
    {
     "data": {
      "text/html": [
       "<div>\n",
       "<style scoped>\n",
       "    .dataframe tbody tr th:only-of-type {\n",
       "        vertical-align: middle;\n",
       "    }\n",
       "\n",
       "    .dataframe tbody tr th {\n",
       "        vertical-align: top;\n",
       "    }\n",
       "\n",
       "    .dataframe thead th {\n",
       "        text-align: right;\n",
       "    }\n",
       "</style>\n",
       "<table border=\"1\" class=\"dataframe\">\n",
       "  <thead>\n",
       "    <tr style=\"text-align: right;\">\n",
       "      <th></th>\n",
       "      <th>ingredients</th>\n",
       "    </tr>\n",
       "  </thead>\n",
       "  <tbody>\n",
       "    <tr>\n",
       "      <th>0</th>\n",
       "      <td>[yogurt, greek, strawberries, cereals, granola]</td>\n",
       "    </tr>\n",
       "    <tr>\n",
       "      <th>1</th>\n",
       "      <td>[sugar, oil corn peanut, olive, egg substitute...</td>\n",
       "    </tr>\n",
       "    <tr>\n",
       "      <th>2</th>\n",
       "      <td>[chicken, broil, meat, skin, salt table, spice...</td>\n",
       "    </tr>\n",
       "    <tr>\n",
       "      <th>3</th>\n",
       "      <td>[crust, aceans shrimp, onions spring, scallion...</td>\n",
       "    </tr>\n",
       "    <tr>\n",
       "      <th>4</th>\n",
       "      <td>[cocoa dry powder, honey, peanut butter, salt]</td>\n",
       "    </tr>\n",
       "  </tbody>\n",
       "</table>\n",
       "</div>"
      ],
      "text/plain": [
       "                                         ingredients\n",
       "0    [yogurt, greek, strawberries, cereals, granola]\n",
       "1  [sugar, oil corn peanut, olive, egg substitute...\n",
       "2  [chicken, broil, meat, skin, salt table, spice...\n",
       "3  [crust, aceans shrimp, onions spring, scallion...\n",
       "4     [cocoa dry powder, honey, peanut butter, salt]"
      ]
     },
     "execution_count": 163,
     "metadata": {},
     "output_type": "execute_result"
    }
   ],
   "source": [
    "df_ingredients.head()"
   ]
  },
  {
   "cell_type": "code",
   "execution_count": 164,
   "id": "ccf0dfe1",
   "metadata": {},
   "outputs": [
    {
     "name": "stderr",
     "output_type": "stream",
     "text": [
      "/tmp/ipykernel_434/228694153.py:1: SettingWithCopyWarning: \n",
      "A value is trying to be set on a copy of a slice from a DataFrame.\n",
      "Try using .loc[row_indexer,col_indexer] = value instead\n",
      "\n",
      "See the caveats in the documentation: https://pandas.pydata.org/pandas-docs/stable/user_guide/indexing.html#returning-a-view-versus-a-copy\n",
      "  df_ingredients['bow'] = df_ingredients.ingredients.apply(convert_to_dict)\n"
     ]
    },
    {
     "data": {
      "text/plain": [
       "DictVectorizer(sparse=False)"
      ]
     },
     "execution_count": 164,
     "metadata": {},
     "output_type": "execute_result"
    }
   ],
   "source": [
    "df_ingredients['bow'] = df_ingredients.ingredients.apply(convert_to_dict)\n",
    "vect_test = DictVectorizer(sparse=False)\n",
    "vect_test.fit(df_ingredients.bow.tolist())"
   ]
  },
  {
   "cell_type": "code",
   "execution_count": 165,
   "id": "75a0b50f",
   "metadata": {},
   "outputs": [],
   "source": [
    "ingredients = pd.DataFrame(vect_test.feature_names_)"
   ]
  },
  {
   "cell_type": "code",
   "execution_count": 166,
   "id": "fc9d3278",
   "metadata": {},
   "outputs": [
    {
     "data": {
      "text/plain": [
       "(1390, 1)"
      ]
     },
     "execution_count": 166,
     "metadata": {},
     "output_type": "execute_result"
    }
   ],
   "source": [
    "ingredients.shape"
   ]
  },
  {
   "cell_type": "markdown",
   "id": "514820d5",
   "metadata": {},
   "source": [
    "# Pipeline"
   ]
  },
  {
   "cell_type": "markdown",
   "id": "d2ab38b2",
   "metadata": {},
   "source": [
    "## - Convert ingredients into dict"
   ]
  },
  {
   "cell_type": "code",
   "execution_count": 22,
   "id": "96e53e0d",
   "metadata": {},
   "outputs": [],
   "source": [
    "def convert_to_dict(arr):\n",
    "    ''' Helper function to convect an array of ingredients to a dictionary '''\n",
    "    d={}\n",
    "    for a in arr:\n",
    "        d[a] = 1\n",
    "    return d"
   ]
  },
  {
   "cell_type": "code",
   "execution_count": 16,
   "id": "b9c84614",
   "metadata": {},
   "outputs": [
    {
     "data": {
      "text/plain": [
       "0        None\n",
       "1        None\n",
       "2        None\n",
       "3        None\n",
       "4        None\n",
       "         ... \n",
       "51230    None\n",
       "51231    None\n",
       "51232    None\n",
       "51233    None\n",
       "51234    None\n",
       "Name: name_and_ing, Length: 51235, dtype: object"
      ]
     },
     "execution_count": 16,
     "metadata": {},
     "output_type": "execute_result"
    }
   ],
   "source": [
    "df['name_and_ing'] = df['ingredients'].apply(lambda x : x.insert(0,'a'))\n",
    "df['name_and_ing']"
   ]
  },
  {
   "cell_type": "code",
   "execution_count": 23,
   "id": "7d5842fa",
   "metadata": {},
   "outputs": [
    {
     "data": {
      "text/html": [
       "<div>\n",
       "<style scoped>\n",
       "    .dataframe tbody tr th:only-of-type {\n",
       "        vertical-align: middle;\n",
       "    }\n",
       "\n",
       "    .dataframe tbody tr th {\n",
       "        vertical-align: top;\n",
       "    }\n",
       "\n",
       "    .dataframe thead th {\n",
       "        text-align: right;\n",
       "    }\n",
       "</style>\n",
       "<table border=\"1\" class=\"dataframe\">\n",
       "  <thead>\n",
       "    <tr style=\"text-align: right;\">\n",
       "      <th></th>\n",
       "      <th>id</th>\n",
       "      <th>recipeName</th>\n",
       "      <th>co2</th>\n",
       "      <th>ingredients</th>\n",
       "      <th>bow</th>\n",
       "    </tr>\n",
       "  </thead>\n",
       "  <tbody>\n",
       "    <tr>\n",
       "      <th>0</th>\n",
       "      <td>000095fc1d</td>\n",
       "      <td>Yogurt Parfaits</td>\n",
       "      <td>0.127718</td>\n",
       "      <td>[yogurt, greek, strawberries, cereals, granola]</td>\n",
       "      <td>{'yogurt': 1, 'greek': 1, 'strawberries': 1, '...</td>\n",
       "    </tr>\n",
       "    <tr>\n",
       "      <th>1</th>\n",
       "      <td>00051d5b9d</td>\n",
       "      <td>Salt Free, Low Cholesterol Sugar Cookies Recipe</td>\n",
       "      <td>0.159063</td>\n",
       "      <td>[sugar, oil corn peanut, olive, egg substitute...</td>\n",
       "      <td>{'sugar': 1, 'oil corn peanut': 1, 'olive': 1,...</td>\n",
       "    </tr>\n",
       "    <tr>\n",
       "      <th>2</th>\n",
       "      <td>00059b093b</td>\n",
       "      <td>Honey Sriracha Chicken Wings</td>\n",
       "      <td>0.408182</td>\n",
       "      <td>[chicken, broil, meat, skin, salt table, spice...</td>\n",
       "      <td>{'chicken': 1, 'broil': 1, 'meat': 1, 'skin': ...</td>\n",
       "    </tr>\n",
       "    <tr>\n",
       "      <th>3</th>\n",
       "      <td>0005fc89f7</td>\n",
       "      <td>Shrimp and Caper Salad</td>\n",
       "      <td>0.370836</td>\n",
       "      <td>[crust, aceans shrimp, onions spring, scallion...</td>\n",
       "      <td>{'crust': 1, 'aceans shrimp': 1, 'onions sprin...</td>\n",
       "    </tr>\n",
       "    <tr>\n",
       "      <th>4</th>\n",
       "      <td>0006ca31f4</td>\n",
       "      <td>Natural Peanut Butter Chocolate Bon Bons</td>\n",
       "      <td>0.081544</td>\n",
       "      <td>[cocoa dry powder, honey, peanut butter, salt]</td>\n",
       "      <td>{'cocoa dry powder': 1, 'honey': 1, 'peanut bu...</td>\n",
       "    </tr>\n",
       "  </tbody>\n",
       "</table>\n",
       "</div>"
      ],
      "text/plain": [
       "           id                                       recipeName       co2  \\\n",
       "0  000095fc1d                                  Yogurt Parfaits  0.127718   \n",
       "1  00051d5b9d  Salt Free, Low Cholesterol Sugar Cookies Recipe  0.159063   \n",
       "2  00059b093b                     Honey Sriracha Chicken Wings  0.408182   \n",
       "3  0005fc89f7                           Shrimp and Caper Salad  0.370836   \n",
       "4  0006ca31f4         Natural Peanut Butter Chocolate Bon Bons  0.081544   \n",
       "\n",
       "                                         ingredients  \\\n",
       "0    [yogurt, greek, strawberries, cereals, granola]   \n",
       "1  [sugar, oil corn peanut, olive, egg substitute...   \n",
       "2  [chicken, broil, meat, skin, salt table, spice...   \n",
       "3  [crust, aceans shrimp, onions spring, scallion...   \n",
       "4     [cocoa dry powder, honey, peanut butter, salt]   \n",
       "\n",
       "                                                 bow  \n",
       "0  {'yogurt': 1, 'greek': 1, 'strawberries': 1, '...  \n",
       "1  {'sugar': 1, 'oil corn peanut': 1, 'olive': 1,...  \n",
       "2  {'chicken': 1, 'broil': 1, 'meat': 1, 'skin': ...  \n",
       "3  {'crust': 1, 'aceans shrimp': 1, 'onions sprin...  \n",
       "4  {'cocoa dry powder': 1, 'honey': 1, 'peanut bu...  "
      ]
     },
     "execution_count": 23,
     "metadata": {},
     "output_type": "execute_result"
    }
   ],
   "source": [
    "# First we create a bag of words per recipe\n",
    "df['bow'] = df.ingredients.apply(convert_to_dict)\n",
    "df.head()"
   ]
  },
  {
   "cell_type": "markdown",
   "id": "ac004adc",
   "metadata": {},
   "source": [
    "## Pipeline"
   ]
  },
  {
   "cell_type": "markdown",
   "id": "478cc7ca",
   "metadata": {},
   "source": [
    "### Find he number of components"
   ]
  },
  {
   "cell_type": "code",
   "execution_count": 109,
   "id": "e13648fb",
   "metadata": {
    "scrolled": true
   },
   "outputs": [],
   "source": [
    "def find_n_components(df):\n",
    "    import numpy as np \n",
    "    vect_test = DictVectorizer(sparse=False)\n",
    "    X_test = vect_test.fit_transform(df.bow.tolist())\n",
    "    pca_test = PCA(n_components=min(df.shape[0], X_test.shape[1]))\n",
    "    pca_test.fit(X_test)\n",
    "    n_components = np.argmax(pca_test.explained_variance_ratio_.cumsum() > 0.9)\n",
    "    return n_components"
   ]
  },
  {
   "cell_type": "code",
   "execution_count": 110,
   "id": "6c27f5e1",
   "metadata": {},
   "outputs": [
    {
     "data": {
      "text/plain": [
       "241"
      ]
     },
     "execution_count": 110,
     "metadata": {},
     "output_type": "execute_result"
    }
   ],
   "source": [
    "n_components = find_n_components(df)\n",
    "n_components"
   ]
  },
  {
   "cell_type": "markdown",
   "id": "6edf70ab",
   "metadata": {},
   "source": [
    "### Create Pipeline"
   ]
  },
  {
   "cell_type": "code",
   "execution_count": 111,
   "id": "3fc6a439",
   "metadata": {},
   "outputs": [],
   "source": [
    "def pipeline(n_components):\n",
    "    pipe = Pipeline([\n",
    "        ('dict_vectorizer', DictVectorizer(sparse=False)),\n",
    "        ('pca', PCA(n_components=n_components))\n",
    "    ])\n",
    "    return pipe"
   ]
  },
  {
   "cell_type": "code",
   "execution_count": 112,
   "id": "99e8e0a7",
   "metadata": {},
   "outputs": [
    {
     "data": {
      "text/plain": [
       "(51235, 241)"
      ]
     },
     "execution_count": 112,
     "metadata": {},
     "output_type": "execute_result"
    }
   ],
   "source": [
    "pipe = pipeline(n_components)\n",
    "X = pipe.fit_transform(df.bow.tolist())\n",
    "X.shape"
   ]
  },
  {
   "cell_type": "markdown",
   "id": "b449b5a2",
   "metadata": {},
   "source": [
    "# - Nearest Neighbor modeling"
   ]
  },
  {
   "cell_type": "code",
   "execution_count": 113,
   "id": "20a5c42c",
   "metadata": {},
   "outputs": [],
   "source": [
    "index_recipe = 51220\n",
    "n_neighbors = 5\n",
    "\n",
    "nn = NearestNeighbors(n_neighbors=n_neighbors)\n",
    "nn.fit(X)\n",
    "X_test = X[index_recipe].reshape(-1,1).T\n",
    "neighbors = nn.kneighbors(X=X_test, n_neighbors=n_neighbors, return_distance=True)"
   ]
  },
  {
   "cell_type": "code",
   "execution_count": 114,
   "id": "96c2ab43",
   "metadata": {},
   "outputs": [
    {
     "data": {
      "text/plain": [
       "(1, 241)"
      ]
     },
     "execution_count": 114,
     "metadata": {},
     "output_type": "execute_result"
    }
   ],
   "source": [
    "X_test.shape"
   ]
  },
  {
   "cell_type": "code",
   "execution_count": 115,
   "id": "e90ea74b",
   "metadata": {},
   "outputs": [
    {
     "data": {
      "text/html": [
       "<div>\n",
       "<style scoped>\n",
       "    .dataframe tbody tr th:only-of-type {\n",
       "        vertical-align: middle;\n",
       "    }\n",
       "\n",
       "    .dataframe tbody tr th {\n",
       "        vertical-align: top;\n",
       "    }\n",
       "\n",
       "    .dataframe thead th {\n",
       "        text-align: right;\n",
       "    }\n",
       "</style>\n",
       "<table border=\"1\" class=\"dataframe\">\n",
       "  <thead>\n",
       "    <tr style=\"text-align: right;\">\n",
       "      <th></th>\n",
       "      <th>name</th>\n",
       "      <th>distance</th>\n",
       "      <th>co2</th>\n",
       "      <th>marker_size</th>\n",
       "    </tr>\n",
       "  </thead>\n",
       "  <tbody>\n",
       "    <tr>\n",
       "      <th>0</th>\n",
       "      <td>Pumpkin-raisin Cookies</td>\n",
       "      <td>0.000000</td>\n",
       "      <td>0.204514</td>\n",
       "      <td>2045.139719</td>\n",
       "    </tr>\n",
       "    <tr>\n",
       "      <th>1</th>\n",
       "      <td>Cinnamon Raisin Bread</td>\n",
       "      <td>2.206736</td>\n",
       "      <td>0.117785</td>\n",
       "      <td>1177.849721</td>\n",
       "    </tr>\n",
       "    <tr>\n",
       "      <th>2</th>\n",
       "      <td>Soft Drop Sugar Cookie Mix</td>\n",
       "      <td>2.210210</td>\n",
       "      <td>0.162434</td>\n",
       "      <td>1624.340991</td>\n",
       "    </tr>\n",
       "    <tr>\n",
       "      <th>3</th>\n",
       "      <td>Holiday Raisin Shortbread Bars</td>\n",
       "      <td>2.210677</td>\n",
       "      <td>0.116182</td>\n",
       "      <td>1161.821019</td>\n",
       "    </tr>\n",
       "    <tr>\n",
       "      <th>4</th>\n",
       "      <td>Old Sog (An Eggless, Milkless Raisin Cake)</td>\n",
       "      <td>2.210901</td>\n",
       "      <td>0.108000</td>\n",
       "      <td>1080.003311</td>\n",
       "    </tr>\n",
       "  </tbody>\n",
       "</table>\n",
       "</div>"
      ],
      "text/plain": [
       "                                         name  distance       co2  marker_size\n",
       "0                      Pumpkin-raisin Cookies  0.000000  0.204514  2045.139719\n",
       "1                       Cinnamon Raisin Bread  2.206736  0.117785  1177.849721\n",
       "2                  Soft Drop Sugar Cookie Mix  2.210210  0.162434  1624.340991\n",
       "3              Holiday Raisin Shortbread Bars  2.210677  0.116182  1161.821019\n",
       "4  Old Sog (An Eggless, Milkless Raisin Cake)  2.210901  0.108000  1080.003311"
      ]
     },
     "execution_count": 115,
     "metadata": {},
     "output_type": "execute_result"
    }
   ],
   "source": [
    "dict_to_plot = {\n",
    "    'name':[],\n",
    "    'distance':[], \n",
    "    'co2':[],\n",
    "    'marker_size':[]\n",
    "}\n",
    "\n",
    "for rec in zip(neighbors[0][0], neighbors[1][0]):\n",
    "    dict_to_plot['name'].append(df.iloc[rec[1]]['recipeName'])\n",
    "    dict_to_plot['distance'].append(rec[0])\n",
    "    dict_to_plot['co2'].append(df.iloc[rec[1]]['co2'])\n",
    "    dict_to_plot['marker_size'].append(df.iloc[rec[1]]['co2']*10000)\n",
    "\n",
    "df_to_plot = pd.DataFrame(dict_to_plot)\n",
    "df_to_plot"
   ]
  },
  {
   "cell_type": "code",
   "execution_count": 116,
   "id": "dd6d7efa",
   "metadata": {},
   "outputs": [
    {
     "data": {
      "image/png": "[encoded data removed]",
      "text/plain": [
       "<Figure size 432x288 with 1 Axes>"
      ]
     },
     "metadata": {
      "needs_background": "light"
     },
     "output_type": "display_data"
    }
   ],
   "source": [
    "plt.scatter(df_to_plot['distance'], \n",
    "            df_to_plot['co2'], \n",
    "            s=df_to_plot['marker_size'], \n",
    "            c=df_to_plot['marker_size'], \n",
    "            cmap=\"Blues\", \n",
    "            alpha=0.6, \n",
    "            edgecolors=\"grey\", \n",
    "            linewidth=1, \n",
    "            label=df_to_plot['name'])\n",
    "\n",
    "for x,y,z in zip(df_to_plot['distance'],df_to_plot['co2'],df_to_plot['name']):\n",
    "    \n",
    "    label = f\"{z}\"\n",
    "    \n",
    "    plt.annotate(label, # this is the text\n",
    "                 (x,y), # these are the coordinates to position the label\n",
    "                 textcoords=\"offset points\", # how to position the text\n",
    "                 xytext=(0,10), # distance from text to points (x,y)\n",
    "                 ha='center') # horizontal alignment can be left, right or center"
   ]
  },
  {
   "cell_type": "markdown",
   "id": "f8c84960",
   "metadata": {},
   "source": [
    "## Nearest neighbors with c02 filtering"
   ]
  },
  {
   "cell_type": "markdown",
   "id": "51fd86a8",
   "metadata": {},
   "source": [
    "### Create Pipeline"
   ]
  },
  {
   "cell_type": "markdown",
   "id": "f7d9950e",
   "metadata": {},
   "source": [
    "def pipeline(n_components):\n",
    "    pipe = Pipeline([\n",
    "        ('dict_vectorizer', DictVectorizer(sparse=False)),\n",
    "        ('pca', PCA(n_components=n_components))\n",
    "    ])\n",
    "    return pipe"
   ]
  },
  {
   "cell_type": "markdown",
   "id": "e9d7d369",
   "metadata": {},
   "source": [
    "pipe = pipeline(n_components)\n",
    "pipe.fit(df.bow.tolist())"
   ]
  },
  {
   "cell_type": "markdown",
   "id": "424dad69",
   "metadata": {},
   "source": [
    "sample_test = \n",
    "df_filtered = df[df['co2']]\n",
    "X2 = pipe.transform(df.bow.tolist())"
   ]
  },
  {
   "cell_type": "markdown",
   "id": "289df4a2",
   "metadata": {},
   "source": [
    "# Export the data"
   ]
  },
  {
   "cell_type": "markdown",
   "id": "38492c64",
   "metadata": {},
   "source": [
    "## Export the data"
   ]
  },
  {
   "cell_type": "code",
   "execution_count": null,
   "id": "25bf6d18",
   "metadata": {},
   "outputs": [],
   "source": []
  },
  {
   "cell_type": "markdown",
   "id": "c3cb9678",
   "metadata": {},
   "source": [
    "### im2recipe dataframe"
   ]
  },
  {
   "cell_type": "code",
   "execution_count": 102,
   "id": "7c9bc9ef",
   "metadata": {},
   "outputs": [],
   "source": [
    "with open(\"../foodprint/cached_data/cached_im2recipe.pickle\", \"wb\") as file:\n",
    "    pickle.dump(df, file)"
   ]
  },
  {
   "cell_type": "markdown",
   "id": "65171658",
   "metadata": {},
   "source": [
    "### Vectorized dataframe"
   ]
  },
  {
   "cell_type": "code",
   "execution_count": 117,
   "id": "b7491dfe",
   "metadata": {},
   "outputs": [],
   "source": [
    "with open(\"../foodprint/cached_data/cached_vectorized_data.pickle\", \"wb\") as file:\n",
    "    pickle.dump(pd.DataFrame(X, index=df.id), file)"
   ]
  },
  {
   "cell_type": "markdown",
   "id": "3c80ee54",
   "metadata": {},
   "source": [
    "### Informational dataframe"
   ]
  },
  {
   "cell_type": "code",
   "execution_count": 118,
   "id": "84f4b5aa",
   "metadata": {},
   "outputs": [],
   "source": [
    "with open(\"../foodprint/cached_data/cached_informational_data.pickle\", \"wb\") as file:\n",
    "    pickle.dump(df, file)"
   ]
  },
  {
   "cell_type": "markdown",
   "id": "9f8a0c30",
   "metadata": {},
   "source": [
    "## Export the pipeline"
   ]
  },
  {
   "cell_type": "code",
   "execution_count": 119,
   "id": "0edb5efa",
   "metadata": {},
   "outputs": [],
   "source": [
    "with open(\"../foodprint/cached_data/pipeline.pickle\", \"wb\") as file:\n",
    "    pickle.dump(pd.DataFrame(X, index=df.id), file)"
   ]
  },
  {
   "cell_type": "markdown",
   "id": "2b6ce9c4",
   "metadata": {},
   "source": [
    "## Exporte the model"
   ]
  },
  {
   "cell_type": "code",
   "execution_count": 120,
   "id": "7da9f98d",
   "metadata": {},
   "outputs": [],
   "source": [
    "# Export pipeline as pickle file\n",
    "with open(\"../models/nneighbors_model.pkl\", \"wb\") as file:\n",
    "    pickle.dump(nn, file)"
   ]
  },
  {
   "cell_type": "markdown",
   "id": "b97a6080",
   "metadata": {},
   "source": [
    "# Test All"
   ]
  },
  {
   "cell_type": "markdown",
   "id": "f29cc316",
   "metadata": {},
   "source": [
    "### Id is provided"
   ]
  },
  {
   "cell_type": "code",
   "execution_count": 121,
   "id": "32a9184b",
   "metadata": {},
   "outputs": [],
   "source": [
    "id = 'ffefad6dcc'"
   ]
  },
  {
   "cell_type": "markdown",
   "id": "ba9acc0d",
   "metadata": {},
   "source": [
    "### load the vectorized data"
   ]
  },
  {
   "cell_type": "code",
   "execution_count": 122,
   "id": "24c44b2d",
   "metadata": {},
   "outputs": [],
   "source": [
    "# Load dataframe from pickle file\n",
    "df_loaded = pickle.load(open(\"../foodprint/cached_data/cached_vectorized_data.pickle\",\"rb\"))"
   ]
  },
  {
   "cell_type": "code",
   "execution_count": 123,
   "id": "46767d2a",
   "metadata": {},
   "outputs": [
    {
     "data": {
      "text/html": [
       "<div>\n",
       "<style scoped>\n",
       "    .dataframe tbody tr th:only-of-type {\n",
       "        vertical-align: middle;\n",
       "    }\n",
       "\n",
       "    .dataframe tbody tr th {\n",
       "        vertical-align: top;\n",
       "    }\n",
       "\n",
       "    .dataframe thead th {\n",
       "        text-align: right;\n",
       "    }\n",
       "</style>\n",
       "<table border=\"1\" class=\"dataframe\">\n",
       "  <thead>\n",
       "    <tr style=\"text-align: right;\">\n",
       "      <th></th>\n",
       "      <th>0</th>\n",
       "      <th>1</th>\n",
       "      <th>2</th>\n",
       "      <th>3</th>\n",
       "      <th>4</th>\n",
       "      <th>5</th>\n",
       "      <th>6</th>\n",
       "      <th>7</th>\n",
       "      <th>8</th>\n",
       "      <th>9</th>\n",
       "      <th>...</th>\n",
       "      <th>231</th>\n",
       "      <th>232</th>\n",
       "      <th>233</th>\n",
       "      <th>234</th>\n",
       "      <th>235</th>\n",
       "      <th>236</th>\n",
       "      <th>237</th>\n",
       "      <th>238</th>\n",
       "      <th>239</th>\n",
       "      <th>240</th>\n",
       "    </tr>\n",
       "    <tr>\n",
       "      <th>id</th>\n",
       "      <th></th>\n",
       "      <th></th>\n",
       "      <th></th>\n",
       "      <th></th>\n",
       "      <th></th>\n",
       "      <th></th>\n",
       "      <th></th>\n",
       "      <th></th>\n",
       "      <th></th>\n",
       "      <th></th>\n",
       "      <th></th>\n",
       "      <th></th>\n",
       "      <th></th>\n",
       "      <th></th>\n",
       "      <th></th>\n",
       "      <th></th>\n",
       "      <th></th>\n",
       "      <th></th>\n",
       "      <th></th>\n",
       "      <th></th>\n",
       "      <th></th>\n",
       "    </tr>\n",
       "  </thead>\n",
       "  <tbody>\n",
       "    <tr>\n",
       "      <th>000095fc1d</th>\n",
       "      <td>-0.661828</td>\n",
       "      <td>-0.500181</td>\n",
       "      <td>0.030801</td>\n",
       "      <td>0.066482</td>\n",
       "      <td>-0.188247</td>\n",
       "      <td>-0.037580</td>\n",
       "      <td>-0.189542</td>\n",
       "      <td>-0.145224</td>\n",
       "      <td>-0.163167</td>\n",
       "      <td>-0.042780</td>\n",
       "      <td>...</td>\n",
       "      <td>-0.008525</td>\n",
       "      <td>-0.152842</td>\n",
       "      <td>-0.180305</td>\n",
       "      <td>-0.252272</td>\n",
       "      <td>-0.167084</td>\n",
       "      <td>-0.070002</td>\n",
       "      <td>0.209402</td>\n",
       "      <td>-0.187581</td>\n",
       "      <td>-0.017007</td>\n",
       "      <td>-0.005935</td>\n",
       "    </tr>\n",
       "    <tr>\n",
       "      <th>00051d5b9d</th>\n",
       "      <td>-0.051442</td>\n",
       "      <td>-0.167559</td>\n",
       "      <td>0.389512</td>\n",
       "      <td>-0.226786</td>\n",
       "      <td>-0.919618</td>\n",
       "      <td>0.588155</td>\n",
       "      <td>-1.012921</td>\n",
       "      <td>-0.230566</td>\n",
       "      <td>0.107573</td>\n",
       "      <td>-0.187467</td>\n",
       "      <td>...</td>\n",
       "      <td>-0.002405</td>\n",
       "      <td>-0.006475</td>\n",
       "      <td>-0.021159</td>\n",
       "      <td>-0.011106</td>\n",
       "      <td>0.004805</td>\n",
       "      <td>-0.005419</td>\n",
       "      <td>0.011783</td>\n",
       "      <td>0.014265</td>\n",
       "      <td>-0.010349</td>\n",
       "      <td>0.004190</td>\n",
       "    </tr>\n",
       "    <tr>\n",
       "      <th>00059b093b</th>\n",
       "      <td>0.171450</td>\n",
       "      <td>1.004136</td>\n",
       "      <td>-0.877200</td>\n",
       "      <td>0.452990</td>\n",
       "      <td>-0.118462</td>\n",
       "      <td>0.221703</td>\n",
       "      <td>0.860022</td>\n",
       "      <td>0.192291</td>\n",
       "      <td>-0.053758</td>\n",
       "      <td>0.424463</td>\n",
       "      <td>...</td>\n",
       "      <td>-0.005538</td>\n",
       "      <td>-0.047804</td>\n",
       "      <td>0.057223</td>\n",
       "      <td>-0.101198</td>\n",
       "      <td>-0.011549</td>\n",
       "      <td>0.049943</td>\n",
       "      <td>0.108129</td>\n",
       "      <td>-0.063694</td>\n",
       "      <td>-0.031750</td>\n",
       "      <td>-0.047776</td>\n",
       "    </tr>\n",
       "    <tr>\n",
       "      <th>0005fc89f7</th>\n",
       "      <td>-0.871274</td>\n",
       "      <td>-0.090335</td>\n",
       "      <td>0.001575</td>\n",
       "      <td>-0.000387</td>\n",
       "      <td>-0.137020</td>\n",
       "      <td>0.445409</td>\n",
       "      <td>0.453396</td>\n",
       "      <td>-0.178838</td>\n",
       "      <td>-0.350404</td>\n",
       "      <td>-0.022536</td>\n",
       "      <td>...</td>\n",
       "      <td>0.009341</td>\n",
       "      <td>-0.018173</td>\n",
       "      <td>0.043498</td>\n",
       "      <td>0.028645</td>\n",
       "      <td>-0.018439</td>\n",
       "      <td>0.015544</td>\n",
       "      <td>0.016874</td>\n",
       "      <td>0.034936</td>\n",
       "      <td>-0.019899</td>\n",
       "      <td>-0.004639</td>\n",
       "    </tr>\n",
       "    <tr>\n",
       "      <th>0006ca31f4</th>\n",
       "      <td>-0.044486</td>\n",
       "      <td>-0.500178</td>\n",
       "      <td>-0.382693</td>\n",
       "      <td>0.368478</td>\n",
       "      <td>-0.350625</td>\n",
       "      <td>-0.015668</td>\n",
       "      <td>0.203325</td>\n",
       "      <td>0.208659</td>\n",
       "      <td>0.289014</td>\n",
       "      <td>0.194988</td>\n",
       "      <td>...</td>\n",
       "      <td>0.011602</td>\n",
       "      <td>0.004649</td>\n",
       "      <td>-0.004291</td>\n",
       "      <td>0.002015</td>\n",
       "      <td>0.003971</td>\n",
       "      <td>0.002350</td>\n",
       "      <td>-0.014917</td>\n",
       "      <td>0.013470</td>\n",
       "      <td>-0.007408</td>\n",
       "      <td>0.000726</td>\n",
       "    </tr>\n",
       "  </tbody>\n",
       "</table>\n",
       "<p>5 rows × 241 columns</p>\n",
       "</div>"
      ],
      "text/plain": [
       "                 0         1         2         3         4         5    \\\n",
       "id                                                                       \n",
       "000095fc1d -0.661828 -0.500181  0.030801  0.066482 -0.188247 -0.037580   \n",
       "00051d5b9d -0.051442 -0.167559  0.389512 -0.226786 -0.919618  0.588155   \n",
       "00059b093b  0.171450  1.004136 -0.877200  0.452990 -0.118462  0.221703   \n",
       "0005fc89f7 -0.871274 -0.090335  0.001575 -0.000387 -0.137020  0.445409   \n",
       "0006ca31f4 -0.044486 -0.500178 -0.382693  0.368478 -0.350625 -0.015668   \n",
       "\n",
       "                 6         7         8         9    ...       231       232  \\\n",
       "id                                                  ...                       \n",
       "000095fc1d -0.189542 -0.145224 -0.163167 -0.042780  ... -0.008525 -0.152842   \n",
       "00051d5b9d -1.012921 -0.230566  0.107573 -0.187467  ... -0.002405 -0.006475   \n",
       "00059b093b  0.860022  0.192291 -0.053758  0.424463  ... -0.005538 -0.047804   \n",
       "0005fc89f7  0.453396 -0.178838 -0.350404 -0.022536  ...  0.009341 -0.018173   \n",
       "0006ca31f4  0.203325  0.208659  0.289014  0.194988  ...  0.011602  0.004649   \n",
       "\n",
       "                 233       234       235       236       237       238  \\\n",
       "id                                                                       \n",
       "000095fc1d -0.180305 -0.252272 -0.167084 -0.070002  0.209402 -0.187581   \n",
       "00051d5b9d -0.021159 -0.011106  0.004805 -0.005419  0.011783  0.014265   \n",
       "00059b093b  0.057223 -0.101198 -0.011549  0.049943  0.108129 -0.063694   \n",
       "0005fc89f7  0.043498  0.028645 -0.018439  0.015544  0.016874  0.034936   \n",
       "0006ca31f4 -0.004291  0.002015  0.003971  0.002350 -0.014917  0.013470   \n",
       "\n",
       "                 239       240  \n",
       "id                              \n",
       "000095fc1d -0.017007 -0.005935  \n",
       "00051d5b9d -0.010349  0.004190  \n",
       "00059b093b -0.031750 -0.047776  \n",
       "0005fc89f7 -0.019899 -0.004639  \n",
       "0006ca31f4 -0.007408  0.000726  \n",
       "\n",
       "[5 rows x 241 columns]"
      ]
     },
     "execution_count": 123,
     "metadata": {},
     "output_type": "execute_result"
    }
   ],
   "source": [
    "df_loaded.head()"
   ]
  },
  {
   "cell_type": "code",
   "execution_count": 124,
   "id": "225cd4d3",
   "metadata": {},
   "outputs": [
    {
     "data": {
      "text/plain": [
       "(51235, 241)"
      ]
     },
     "execution_count": 124,
     "metadata": {},
     "output_type": "execute_result"
    }
   ],
   "source": [
    "np.array(df_loaded).shape"
   ]
  },
  {
   "cell_type": "code",
   "execution_count": 127,
   "id": "3105ee81",
   "metadata": {},
   "outputs": [],
   "source": [
    "### Load the informational data"
   ]
  },
  {
   "cell_type": "code",
   "execution_count": 128,
   "id": "54cdeae5",
   "metadata": {},
   "outputs": [],
   "source": [
    "df_info = pickle.load(open(\"../foodprint/cached_data/cached_informational_data.pickle\",\"rb\"))"
   ]
  },
  {
   "cell_type": "code",
   "execution_count": 129,
   "id": "998cf2b0",
   "metadata": {},
   "outputs": [
    {
     "data": {
      "text/html": [
       "<div>\n",
       "<style scoped>\n",
       "    .dataframe tbody tr th:only-of-type {\n",
       "        vertical-align: middle;\n",
       "    }\n",
       "\n",
       "    .dataframe tbody tr th {\n",
       "        vertical-align: top;\n",
       "    }\n",
       "\n",
       "    .dataframe thead th {\n",
       "        text-align: right;\n",
       "    }\n",
       "</style>\n",
       "<table border=\"1\" class=\"dataframe\">\n",
       "  <thead>\n",
       "    <tr style=\"text-align: right;\">\n",
       "      <th></th>\n",
       "      <th>id</th>\n",
       "      <th>recipeName</th>\n",
       "      <th>co2</th>\n",
       "      <th>ingredients</th>\n",
       "      <th>bow</th>\n",
       "      <th>nutritional_value</th>\n",
       "    </tr>\n",
       "  </thead>\n",
       "  <tbody>\n",
       "    <tr>\n",
       "      <th>0</th>\n",
       "      <td>000095fc1d</td>\n",
       "      <td>Yogurt Parfaits</td>\n",
       "      <td>0.127718</td>\n",
       "      <td>[yogurt, greek, strawberries, cereals, granola]</td>\n",
       "      <td>{'yogurt': 1, 'greek': 1, 'strawberries': 1, '...</td>\n",
       "      <td>2</td>\n",
       "    </tr>\n",
       "    <tr>\n",
       "      <th>1</th>\n",
       "      <td>00051d5b9d</td>\n",
       "      <td>Salt Free, Low Cholesterol Sugar Cookies Recipe</td>\n",
       "      <td>0.159063</td>\n",
       "      <td>[sugar, oil corn peanut, olive, egg substitute...</td>\n",
       "      <td>{'sugar': 1, 'oil corn peanut': 1, 'olive': 1,...</td>\n",
       "      <td>17</td>\n",
       "    </tr>\n",
       "    <tr>\n",
       "      <th>2</th>\n",
       "      <td>00059b093b</td>\n",
       "      <td>Honey Sriracha Chicken Wings</td>\n",
       "      <td>0.408182</td>\n",
       "      <td>[chicken, broil, meat, skin, salt table, spice...</td>\n",
       "      <td>{'chicken': 1, 'broil': 1, 'meat': 1, 'skin': ...</td>\n",
       "      <td>16</td>\n",
       "    </tr>\n",
       "    <tr>\n",
       "      <th>3</th>\n",
       "      <td>0005fc89f7</td>\n",
       "      <td>Shrimp and Caper Salad</td>\n",
       "      <td>0.370836</td>\n",
       "      <td>[crust, aceans shrimp, onions spring, scallion...</td>\n",
       "      <td>{'crust': 1, 'aceans shrimp': 1, 'onions sprin...</td>\n",
       "      <td>10</td>\n",
       "    </tr>\n",
       "    <tr>\n",
       "      <th>4</th>\n",
       "      <td>0006ca31f4</td>\n",
       "      <td>Natural Peanut Butter Chocolate Bon Bons</td>\n",
       "      <td>0.081544</td>\n",
       "      <td>[cocoa dry powder, honey, peanut butter, salt]</td>\n",
       "      <td>{'cocoa dry powder': 1, 'honey': 1, 'peanut bu...</td>\n",
       "      <td>15</td>\n",
       "    </tr>\n",
       "  </tbody>\n",
       "</table>\n",
       "</div>"
      ],
      "text/plain": [
       "           id                                       recipeName       co2  \\\n",
       "0  000095fc1d                                  Yogurt Parfaits  0.127718   \n",
       "1  00051d5b9d  Salt Free, Low Cholesterol Sugar Cookies Recipe  0.159063   \n",
       "2  00059b093b                     Honey Sriracha Chicken Wings  0.408182   \n",
       "3  0005fc89f7                           Shrimp and Caper Salad  0.370836   \n",
       "4  0006ca31f4         Natural Peanut Butter Chocolate Bon Bons  0.081544   \n",
       "\n",
       "                                         ingredients  \\\n",
       "0    [yogurt, greek, strawberries, cereals, granola]   \n",
       "1  [sugar, oil corn peanut, olive, egg substitute...   \n",
       "2  [chicken, broil, meat, skin, salt table, spice...   \n",
       "3  [crust, aceans shrimp, onions spring, scallion...   \n",
       "4     [cocoa dry powder, honey, peanut butter, salt]   \n",
       "\n",
       "                                                 bow  nutritional_value  \n",
       "0  {'yogurt': 1, 'greek': 1, 'strawberries': 1, '...                  2  \n",
       "1  {'sugar': 1, 'oil corn peanut': 1, 'olive': 1,...                 17  \n",
       "2  {'chicken': 1, 'broil': 1, 'meat': 1, 'skin': ...                 16  \n",
       "3  {'crust': 1, 'aceans shrimp': 1, 'onions sprin...                 10  \n",
       "4  {'cocoa dry powder': 1, 'honey': 1, 'peanut bu...                 15  "
      ]
     },
     "execution_count": 129,
     "metadata": {},
     "output_type": "execute_result"
    }
   ],
   "source": [
    "df_info.head()"
   ]
  },
  {
   "cell_type": "markdown",
   "id": "3f5ddef1",
   "metadata": {},
   "source": [
    "### Get the recipe"
   ]
  },
  {
   "cell_type": "code",
   "execution_count": 125,
   "id": "ae9ed13b",
   "metadata": {},
   "outputs": [],
   "source": [
    "recipe = np.array(df_loaded.loc[id]).reshape(-1,1).T"
   ]
  },
  {
   "cell_type": "code",
   "execution_count": 126,
   "id": "f2778e9f",
   "metadata": {},
   "outputs": [
    {
     "data": {
      "text/plain": [
       "(1, 241)"
      ]
     },
     "execution_count": 126,
     "metadata": {},
     "output_type": "execute_result"
    }
   ],
   "source": [
    "recipe.shape"
   ]
  },
  {
   "cell_type": "markdown",
   "id": "3867dcfa",
   "metadata": {},
   "source": [
    "### Load the model"
   ]
  },
  {
   "cell_type": "code",
   "execution_count": 209,
   "id": "df14d846",
   "metadata": {},
   "outputs": [],
   "source": [
    "# Load model from pickle file\n",
    "nn_loaded = pickle.load(open(\"../models/nneighbors_model.pkl\",\"rb\"))"
   ]
  },
  {
   "cell_type": "markdown",
   "id": "8e8c58f2",
   "metadata": {},
   "source": [
    "### find the neighbors"
   ]
  },
  {
   "cell_type": "code",
   "execution_count": 210,
   "id": "4290b882",
   "metadata": {
    "scrolled": true
   },
   "outputs": [],
   "source": [
    "n_neighbors = 5\n",
    "neighbors = nn_loaded.kneighbors(X=recipe, n_neighbors=n_neighbors, return_distance=True)"
   ]
  },
  {
   "cell_type": "code",
   "execution_count": 211,
   "id": "a325e24a",
   "metadata": {},
   "outputs": [
    {
     "data": {
      "text/plain": [
       "(array([[0.        , 2.20439266, 2.20704846, 2.20832353, 2.20858717]]),\n",
       " array([[51220, 28218, 40140,  2497, 36537]]))"
      ]
     },
     "execution_count": 211,
     "metadata": {},
     "output_type": "execute_result"
    }
   ],
   "source": [
    "neighbors"
   ]
  },
  {
   "cell_type": "code",
   "execution_count": null,
   "id": "9f297c8d",
   "metadata": {},
   "outputs": [],
   "source": []
  }
 ],
 "metadata": {
  "kernelspec": {
   "display_name": "Python 3 (ipykernel)",
   "language": "python",
   "name": "python3"
  },
  "language_info": {
   "codemirror_mode": {
    "name": "ipython",
    "version": 3
   },
   "file_extension": ".py",
   "mimetype": "text/x-python",
   "name": "python",
   "nbconvert_exporter": "python",
   "pygments_lexer": "ipython3",
   "version": "3.8.6"
  },
  "toc": {
   "base_numbering": 1,
   "nav_menu": {},
   "number_sections": true,
   "sideBar": true,
   "skip_h1_title": false,
   "title_cell": "Table of Contents",
   "title_sidebar": "Contents",
   "toc_cell": false,
   "toc_position": {},
   "toc_section_display": true,
   "toc_window_display": false
  }
 },
 "nbformat": 4,
 "nbformat_minor": 5
}
