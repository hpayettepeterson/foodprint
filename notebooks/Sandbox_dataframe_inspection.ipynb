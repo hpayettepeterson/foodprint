{
 "cells": [
  {
   "cell_type": "code",
   "execution_count": 10,
   "id": "da718cbd",
   "metadata": {},
   "outputs": [
    {
     "data": {
      "text/plain": [
       "'https://foodprint-m7tvgzo76q-ew.a.run.app/predict?recipe_id=ffffcd4444&n_neighbors=500'"
      ]
     },
     "execution_count": 10,
     "metadata": {},
     "output_type": "execute_result"
    }
   ],
   "source": [
    "import requests\n",
    "\n",
    "\n",
    "recipe_id = 'ffffcd4444'\n",
    "\n",
    "n_neighbors = 500\n",
    "\n",
    "url = f\"https://foodprint-m7tvgzo76q-ew.a.run.app/predict?recipe_id={recipe_id}&n_neighbors={n_neighbors}\"\n",
    "url\n",
    "\n",
    "response = requests.get(url).json()\n",
    "\n"
   ]
  },
  {
   "cell_type": "code",
   "execution_count": 7,
   "id": "2c825d58",
   "metadata": {},
   "outputs": [
    {
     "data": {
      "text/plain": [
       "{'prediction': {'name': {'0': 'Coffee Cake',\n",
       "   '1': 'St. James Coffee Cake',\n",
       "   '2': 'Easy Raisin Cake',\n",
       "   '3': 'Easy Raisin Cake',\n",
       "   '4': \"Gail's Raisin Cake\"},\n",
       "  'distance': {'0': 0.0,\n",
       "   '1': 0.0,\n",
       "   '2': 2.2262090922403686,\n",
       "   '3': 2.2262090922403686,\n",
       "   '4': 2.4036247138570404},\n",
       "  'co2': {'0': 0.1514620095365825,\n",
       "   '1': 0.1237274162417986,\n",
       "   '2': 0.0943636667985475,\n",
       "   '3': 0.1110353865939065,\n",
       "   '4': 0.0869863925252531},\n",
       "  'marker_size': {'0': 1.828630680363975e-24,\n",
       "   '1': 4.438759415751587e-25,\n",
       "   '2': 6.662445339562125e-26,\n",
       "   '3': 2.080797718369078e-25,\n",
       "   '4': 3.7684194960425194e-26}}}"
      ]
     },
     "execution_count": 7,
     "metadata": {},
     "output_type": "execute_result"
    }
   ],
   "source": [
    "response"
   ]
  },
  {
   "cell_type": "code",
   "execution_count": 11,
   "id": "cf008712",
   "metadata": {},
   "outputs": [
    {
     "name": "stdout",
     "output_type": "stream",
     "text": [
      "total 8124\r\n",
      "drwxr-xr-x  4 chris chris    4096 Aug 27 12:26 .\r\n",
      "drwxr-xr-x 10 chris chris    4096 Aug 27 10:52 ..\r\n",
      "-rw-r--r--  1 chris chris   11933 Aug 26 16:56 03-Vectorizer-Tuning-Solution.ipynb\r\n",
      "-rw-r--r--  1 chris chris    3502 Aug 26 16:56 helper.py\r\n",
      "drwxr-xr-x  2 chris chris    4096 Aug 27 12:14 .ipynb_checkpoints\r\n",
      "-rw-r--r--  1 chris chris       0 Aug 26 16:56 .keep\r\n",
      "-rw-r--r--  1 chris chris 6403616 Aug 27 10:52 preprocessing.ipynb\r\n",
      "-rw-r--r--  1 chris chris 1874327 Aug 26 16:59 scrape.ipynb\r\n",
      "drwxr-xr-x  2 chris chris    4096 Aug 26 19:54 ss\r\n",
      "-rw-r--r--  1 chris chris    3358 Aug 27 12:26 Untitled.ipynb\r\n"
     ]
    }
   ],
   "source": [
    "!ls -la"
   ]
  },
  {
   "cell_type": "code",
   "execution_count": 14,
   "id": "adbf2497",
   "metadata": {},
   "outputs": [
    {
     "data": {
      "text/plain": [
       "'..'"
      ]
     },
     "execution_count": 14,
     "metadata": {},
     "output_type": "execute_result"
    }
   ],
   "source": [
    "import os\n",
    "\n"
   ]
  },
  {
   "cell_type": "code",
   "execution_count": 15,
   "id": "47ba1425",
   "metadata": {},
   "outputs": [],
   "source": [
    "import pickle\n",
    "df_recipe = pickle.load(open('../foodprint/cached_data/cached_im2recipe.pickle', 'rb'))"
   ]
  },
  {
   "cell_type": "code",
   "execution_count": 16,
   "id": "217eab08",
   "metadata": {},
   "outputs": [
    {
     "data": {
      "text/html": [
       "<div>\n",
       "<style scoped>\n",
       "    .dataframe tbody tr th:only-of-type {\n",
       "        vertical-align: middle;\n",
       "    }\n",
       "\n",
       "    .dataframe tbody tr th {\n",
       "        vertical-align: top;\n",
       "    }\n",
       "\n",
       "    .dataframe thead th {\n",
       "        text-align: right;\n",
       "    }\n",
       "</style>\n",
       "<table border=\"1\" class=\"dataframe\">\n",
       "  <thead>\n",
       "    <tr style=\"text-align: right;\">\n",
       "      <th></th>\n",
       "      <th>id</th>\n",
       "      <th>recipeName</th>\n",
       "      <th>co2</th>\n",
       "      <th>ingredients</th>\n",
       "      <th>bow</th>\n",
       "    </tr>\n",
       "  </thead>\n",
       "  <tbody>\n",
       "    <tr>\n",
       "      <th>0</th>\n",
       "      <td>000095fc1d</td>\n",
       "      <td>Yogurt Parfaits</td>\n",
       "      <td>0.127718</td>\n",
       "      <td>[yogurt, greek, strawberries, cereals, granola]</td>\n",
       "      <td>{'yogurt': 1, 'greek': 1, 'strawberries': 1, '...</td>\n",
       "    </tr>\n",
       "    <tr>\n",
       "      <th>1</th>\n",
       "      <td>00051d5b9d</td>\n",
       "      <td>Salt Free, Low Cholesterol Sugar Cookies Recipe</td>\n",
       "      <td>0.159063</td>\n",
       "      <td>[sugar, oil corn peanut, olive, egg substitute...</td>\n",
       "      <td>{'sugar': 1, 'oil corn peanut': 1, 'olive': 1,...</td>\n",
       "    </tr>\n",
       "    <tr>\n",
       "      <th>2</th>\n",
       "      <td>00059b093b</td>\n",
       "      <td>Honey Sriracha Chicken Wings</td>\n",
       "      <td>0.408182</td>\n",
       "      <td>[chicken, broil, meat, skin, salt table, spice...</td>\n",
       "      <td>{'chicken': 1, 'broil': 1, 'meat': 1, 'skin': ...</td>\n",
       "    </tr>\n",
       "    <tr>\n",
       "      <th>3</th>\n",
       "      <td>0005fc89f7</td>\n",
       "      <td>Shrimp and Caper Salad</td>\n",
       "      <td>0.370836</td>\n",
       "      <td>[crust, aceans shrimp, onions spring, scallion...</td>\n",
       "      <td>{'crust': 1, 'aceans shrimp': 1, 'onions sprin...</td>\n",
       "    </tr>\n",
       "    <tr>\n",
       "      <th>4</th>\n",
       "      <td>0006ca31f4</td>\n",
       "      <td>Natural Peanut Butter Chocolate Bon Bons</td>\n",
       "      <td>0.081544</td>\n",
       "      <td>[cocoa dry powder, honey, peanut butter, salt]</td>\n",
       "      <td>{'cocoa dry powder': 1, 'honey': 1, 'peanut bu...</td>\n",
       "    </tr>\n",
       "    <tr>\n",
       "      <th>...</th>\n",
       "      <td>...</td>\n",
       "      <td>...</td>\n",
       "      <td>...</td>\n",
       "      <td>...</td>\n",
       "      <td>...</td>\n",
       "    </tr>\n",
       "    <tr>\n",
       "      <th>51230</th>\n",
       "      <td>fffb3bbff2</td>\n",
       "      <td>Granola Supreme</td>\n",
       "      <td>0.139879</td>\n",
       "      <td>[cereals oats, water, salt, oat bran, nuts alm...</td>\n",
       "      <td>{'cereals oats': 1, 'water': 1, 'salt': 1, 'oa...</td>\n",
       "    </tr>\n",
       "    <tr>\n",
       "      <th>51231</th>\n",
       "      <td>fffd4b124b</td>\n",
       "      <td>Almond Bark Candy</td>\n",
       "      <td>0.163538</td>\n",
       "      <td>[chocolate baking chips, raisins, nuts almonds]</td>\n",
       "      <td>{'chocolate baking chips': 1, 'raisins': 1, 'n...</td>\n",
       "    </tr>\n",
       "    <tr>\n",
       "      <th>51232</th>\n",
       "      <td>fffd6d487a</td>\n",
       "      <td>Chocolate Crumble</td>\n",
       "      <td>0.153068</td>\n",
       "      <td>[butter, salt, cocoa dry powder, wheat flour, ...</td>\n",
       "      <td>{'butter': 1, 'salt': 1, 'cocoa dry powder': 1...</td>\n",
       "    </tr>\n",
       "    <tr>\n",
       "      <th>51233</th>\n",
       "      <td>fffdbfd298</td>\n",
       "      <td>Cran-Apple White Chocolate Popcorn</td>\n",
       "      <td>0.084033</td>\n",
       "      <td>[chocolate baking chips, spices, cinnamon grou...</td>\n",
       "      <td>{'chocolate baking chips': 1, 'spices': 1, 'ci...</td>\n",
       "    </tr>\n",
       "    <tr>\n",
       "      <th>51234</th>\n",
       "      <td>ffffcd4444</td>\n",
       "      <td>Extremely Easy and Quick - Namul Daikon Salad</td>\n",
       "      <td>0.055371</td>\n",
       "      <td>[radishes, oil sesame salad, seeds sesame seed...</td>\n",
       "      <td>{'radishes': 1, 'oil sesame salad': 1, 'seeds ...</td>\n",
       "    </tr>\n",
       "  </tbody>\n",
       "</table>\n",
       "<p>51235 rows × 5 columns</p>\n",
       "</div>"
      ],
      "text/plain": [
       "               id                                       recipeName       co2  \\\n",
       "0      000095fc1d                                  Yogurt Parfaits  0.127718   \n",
       "1      00051d5b9d  Salt Free, Low Cholesterol Sugar Cookies Recipe  0.159063   \n",
       "2      00059b093b                     Honey Sriracha Chicken Wings  0.408182   \n",
       "3      0005fc89f7                           Shrimp and Caper Salad  0.370836   \n",
       "4      0006ca31f4         Natural Peanut Butter Chocolate Bon Bons  0.081544   \n",
       "...           ...                                              ...       ...   \n",
       "51230  fffb3bbff2                                  Granola Supreme  0.139879   \n",
       "51231  fffd4b124b                                Almond Bark Candy  0.163538   \n",
       "51232  fffd6d487a                                Chocolate Crumble  0.153068   \n",
       "51233  fffdbfd298               Cran-Apple White Chocolate Popcorn  0.084033   \n",
       "51234  ffffcd4444    Extremely Easy and Quick - Namul Daikon Salad  0.055371   \n",
       "\n",
       "                                             ingredients  \\\n",
       "0        [yogurt, greek, strawberries, cereals, granola]   \n",
       "1      [sugar, oil corn peanut, olive, egg substitute...   \n",
       "2      [chicken, broil, meat, skin, salt table, spice...   \n",
       "3      [crust, aceans shrimp, onions spring, scallion...   \n",
       "4         [cocoa dry powder, honey, peanut butter, salt]   \n",
       "...                                                  ...   \n",
       "51230  [cereals oats, water, salt, oat bran, nuts alm...   \n",
       "51231    [chocolate baking chips, raisins, nuts almonds]   \n",
       "51232  [butter, salt, cocoa dry powder, wheat flour, ...   \n",
       "51233  [chocolate baking chips, spices, cinnamon grou...   \n",
       "51234  [radishes, oil sesame salad, seeds sesame seed...   \n",
       "\n",
       "                                                     bow  \n",
       "0      {'yogurt': 1, 'greek': 1, 'strawberries': 1, '...  \n",
       "1      {'sugar': 1, 'oil corn peanut': 1, 'olive': 1,...  \n",
       "2      {'chicken': 1, 'broil': 1, 'meat': 1, 'skin': ...  \n",
       "3      {'crust': 1, 'aceans shrimp': 1, 'onions sprin...  \n",
       "4      {'cocoa dry powder': 1, 'honey': 1, 'peanut bu...  \n",
       "...                                                  ...  \n",
       "51230  {'cereals oats': 1, 'water': 1, 'salt': 1, 'oa...  \n",
       "51231  {'chocolate baking chips': 1, 'raisins': 1, 'n...  \n",
       "51232  {'butter': 1, 'salt': 1, 'cocoa dry powder': 1...  \n",
       "51233  {'chocolate baking chips': 1, 'spices': 1, 'ci...  \n",
       "51234  {'radishes': 1, 'oil sesame salad': 1, 'seeds ...  \n",
       "\n",
       "[51235 rows x 5 columns]"
      ]
     },
     "execution_count": 16,
     "metadata": {},
     "output_type": "execute_result"
    }
   ],
   "source": [
    "df_recipe"
   ]
  },
  {
   "cell_type": "code",
   "execution_count": null,
   "id": "b0c5d8ba",
   "metadata": {},
   "outputs": [],
   "source": [
    "BUCKET_NAME = 'foodprint-672'\n",
    "\n",
    "BUCKET_FOLDER = 'data'\n",
    "\n",
    "BUCKET_FILE_NAME = 'cached_vectorized_data.pickle'"
   ]
  },
  {
   "cell_type": "code",
   "execution_count": 4,
   "id": "cc4fcad9",
   "metadata": {},
   "outputs": [
    {
     "ename": "ModuleNotFoundError",
     "evalue": "No module named 'foodprint'",
     "output_type": "error",
     "traceback": [
      "\u001b[0;31m---------------------------------------------------------------------------\u001b[0m",
      "\u001b[0;31mModuleNotFoundError\u001b[0m                       Traceback (most recent call last)",
      "\u001b[0;32m/tmp/ipykernel_14704/235475526.py\u001b[0m in \u001b[0;36m<module>\u001b[0;34m\u001b[0m\n\u001b[0;32m----> 1\u001b[0;31m \u001b[0;32mfrom\u001b[0m \u001b[0mfoodprint\u001b[0m\u001b[0;34m.\u001b[0m\u001b[0mparams\u001b[0m \u001b[0;32mimport\u001b[0m \u001b[0mBUCKET_NAME\u001b[0m\u001b[0;34m,\u001b[0m \u001b[0mBUCKET_TRAIN_DATA_PATH\u001b[0m\u001b[0;34m,\u001b[0m \u001b[0mBUCKET_FILE_NAME\u001b[0m\u001b[0;34m\u001b[0m\u001b[0;34m\u001b[0m\u001b[0m\n\u001b[0m",
      "\u001b[0;31mModuleNotFoundError\u001b[0m: No module named 'foodprint'"
     ]
    }
   ],
   "source": [
    "from foodprint.params import BUCKET_NAME, BUCKET_TRAIN_DATA_PATH, BUCKET_FILE_NAME"
   ]
  },
  {
   "cell_type": "code",
   "execution_count": 5,
   "id": "d0384b0c",
   "metadata": {},
   "outputs": [
    {
     "name": "stdout",
     "output_type": "stream",
     "text": [
      "/home/chris/code/hpayettepeterson/foodprint/notebooks\r\n"
     ]
    }
   ],
   "source": [
    "!pwd"
   ]
  },
  {
   "cell_type": "code",
   "execution_count": 6,
   "id": "e16b7882",
   "metadata": {},
   "outputs": [],
   "source": [
    "import os"
   ]
  },
  {
   "cell_type": "code",
   "execution_count": 7,
   "id": "b096635a",
   "metadata": {},
   "outputs": [
    {
     "data": {
      "text/plain": [
       "'/home/chris/code/hpayettepeterson/foodprint/notebooks'"
      ]
     },
     "execution_count": 7,
     "metadata": {},
     "output_type": "execute_result"
    }
   ],
   "source": [
    "os.path.abspath('')"
   ]
  },
  {
   "cell_type": "code",
   "execution_count": 9,
   "id": "41cd2058",
   "metadata": {},
   "outputs": [
    {
     "data": {
      "text/plain": [
       "'.'"
      ]
     },
     "execution_count": 9,
     "metadata": {},
     "output_type": "execute_result"
    }
   ],
   "source": [
    "os.path."
   ]
  },
  {
   "cell_type": "code",
   "execution_count": null,
   "id": "f362c1b6",
   "metadata": {},
   "outputs": [],
   "source": []
  }
 ],
 "metadata": {
  "kernelspec": {
   "display_name": "Python 3 (ipykernel)",
   "language": "python",
   "name": "python3"
  },
  "language_info": {
   "codemirror_mode": {
    "name": "ipython",
    "version": 3
   },
   "file_extension": ".py",
   "mimetype": "text/x-python",
   "name": "python",
   "nbconvert_exporter": "python",
   "pygments_lexer": "ipython3",
   "version": "3.8.6"
  },
  "toc": {
   "base_numbering": 1,
   "nav_menu": {},
   "number_sections": true,
   "sideBar": true,
   "skip_h1_title": false,
   "title_cell": "Table of Contents",
   "title_sidebar": "Contents",
   "toc_cell": false,
   "toc_position": {},
   "toc_section_display": true,
   "toc_window_display": false
  },
  "varInspector": {
   "cols": {
    "lenName": 16,
    "lenType": 16,
    "lenVar": 40
   },
   "kernels_config": {
    "python": {
     "delete_cmd_postfix": "",
     "delete_cmd_prefix": "del ",
     "library": "var_list.py",
     "varRefreshCmd": "print(var_dic_list())"
    },
    "r": {
     "delete_cmd_postfix": ") ",
     "delete_cmd_prefix": "rm(",
     "library": "var_list.r",
     "varRefreshCmd": "cat(var_dic_list()) "
    }
   },
   "types_to_exclude": [
    "module",
    "function",
    "builtin_function_or_method",
    "instance",
    "_Feature"
   ],
   "window_display": false
  }
 },
 "nbformat": 4,
 "nbformat_minor": 5
}
